{
 "cells": [
  {
   "cell_type": "markdown",
   "metadata": {},
   "source": [
    "# Notebook for creation of the images dataset (env: Scikit-HEP)"
   ]
  },
  {
   "cell_type": "markdown",
   "metadata": {},
   "source": [
    "### Load the packges we are going to use:"
   ]
  },
  {
   "cell_type": "code",
   "execution_count": 1,
   "metadata": {},
   "outputs": [],
   "source": [
    "import numpy as np \n",
    "import matplotlib.pyplot as plt\n",
    "import matplotlib as mpl\n",
    "from pyjet import cluster,DTYPE_PTEPM\n",
    "import pandas as pd"
   ]
  },
  {
   "cell_type": "code",
   "execution_count": 2,
   "metadata": {},
   "outputs": [],
   "source": [
    "## Disable the interactive session from matplotlib to avoid fill up all your memory:\n",
    "mpl.interactive(False)"
   ]
  },
  {
   "cell_type": "markdown",
   "metadata": {},
   "source": [
    "### Load the data we want to use to create the images:"
   ]
  },
  {
   "cell_type": "markdown",
   "metadata": {},
   "source": [
    "#### Instead of load the full large h5 file we are going to make a generator to load the file in batches more menageble:"
   ]
  },
  {
   "cell_type": "code",
   "execution_count": null,
   "metadata": {},
   "outputs": [],
   "source": [
    "def generator(filename, chunksize=512,total_size=1100000):\n",
    "\n",
    "    m = 0\n",
    "    \n",
    "    while True:\n",
    "\n",
    "        yield pd.read_hdf(filename,start=m*chunksize, stop=(m+1)*chunksize)\n",
    "\n",
    "        m+=1\n",
    "        if (m+1)*chunksize > total_size:\n",
    "            m=0"
   ]
  },
  {
   "cell_type": "markdown",
   "metadata": {},
   "source": [
    "#### I'm going to create a class that takes as arguments the size of the images, the size of the pixels (bins), the unclestered events from my dataframe, the weights of each particle (aka each pixel in our images) which will be use as color scale and generate the images (.png) we are going to use in our classifier:"
   ]
  },
  {
   "cell_type": "markdown",
   "metadata": {},
   "source": [
    "- later I'm going to move this code to a .py file with all functions and classes we will use."
   ]
  },
  {
   "cell_type": "code",
   "execution_count": 7,
   "metadata": {},
   "outputs": [],
   "source": [
    "class DetectorImage:\n",
    "    '''\n",
    "    Class for generate pixeleted jet images from pseudojets objects from pyjet.\n",
    "    arguments:\n",
    "        pixel_size = size of the pixels based onthe hist2d bin images\n",
    "        image_size = dimension for the images generated\n",
    "        eta_min = min pseudo-rapidity\n",
    "        eta_max = max pseudo-rapidity\n",
    "        path = path to save the images\n",
    "    '''\n",
    "    \n",
    "    def __init__(self, pixel_size=200, image_size=200, \n",
    "                 eta_min= -5., eta_max=5., path=''):\n",
    "        self.eta_min, self.eta_max = eta_min, eta_max\n",
    "        self.extent = self.eta_min, self.eta_max, -np.pi, np.pi\n",
    "        self.image_size = image_size\n",
    "        self.bins = pixel_size\n",
    "\n",
    "        self.eta_edges = np.linspace(self.eta_min, self.eta_max, self.bins + 1)\n",
    "        self.phi_edges = np.linspace(-np.pi, np.pi, self.bins + 1)\n",
    "        self.eta = np.linspace(self.eta_min, self.eta_max, self.bins + 1)[:-1] + (self.eta_max - self.eta_min) / (2 * self.bins)\n",
    "        self.phi = np.linspace(-np.pi, np.pi, self.bins + 1)[:-1] + (np.pi / self.bins)\n",
    "\n",
    "        self.phi_min,self.phi_max = np.min(self.phi), np.max(self.phi)\n",
    "        self.path = path\n",
    "        \n",
    "    def pseudojets_images(self, pseudojet, weight, idx):\n",
    "        '''\n",
    "        Function to drawn jet images from the pyjet pseudojets objects.\n",
    "        arg:\n",
    "            pseudojet = unclustered pseudojet\n",
    "            weight = weights arguments for the histo2d function to colorize the pixels\n",
    "            idx = event index\n",
    "        '''\n",
    "        fig, ax = plt.subplots(subplot_kw=dict(xlim=(self.eta_min,self.eta_max),\n",
    "                                               ylim=(self.phi_min,self.phi_max)),\n",
    "                               figsize=(self.image_size/10, self.image_size/10),dpi=10)\n",
    "        ax.axis('off')\n",
    "\n",
    "        hadrons, _, _ = np.histogram2d(pseudojet[:]['eta'], pseudojet[:]['phi'], \n",
    "                                   bins=(self.eta_edges, self.phi_edges), weights=weight)\n",
    "        ax.imshow(np.ma.masked_where(hadrons == 0, hadrons).T,\n",
    "                  extent=self.extent, aspect=(self.eta_max - self.eta_min) / (2*np.pi),\n",
    "                  interpolation='none', origin='lower')\n",
    "\n",
    "\n",
    "        plt.tight_layout()\n",
    "        plt.savefig(self.path + '/{}.png'.format(idx), dpi=10)\n",
    "        plt.clf()\n",
    "        plt.close('all')"
   ]
  },
  {
   "cell_type": "markdown",
   "metadata": {},
   "source": [
    "## Now we can loop throught some events and create our images for a given signal or background event and create the respective images in each designated folder"
   ]
  },
  {
   "cell_type": "markdown",
   "metadata": {},
   "source": [
    "### I'm using the generator to load the events in batches of 512 * 100 rows per time, we can increase this number to process things a bit faster, however pyjet and matplotlib will always process everything at the same speed, so to process all the data will take some time."
   ]
  },
  {
   "cell_type": "code",
   "execution_count": null,
   "metadata": {},
   "outputs": [],
   "source": [
    "#fn is the path to the file and fb is our file batch:\n",
    "fn = '../data/resized_events_anomalydetection.h5'\n",
    "fb = generator(fn,chunksize=512*100)"
   ]
  },
  {
   "cell_type": "markdown",
   "metadata": {},
   "source": [
    "#### I'm modifying the loop through events to include the batch files and change the range to accomodate the batches:"
   ]
  },
  {
   "cell_type": "code",
   "execution_count": 8,
   "metadata": {},
   "outputs": [],
   "source": [
    "for batch in fb:\n",
    "    events_combined = batch.T\n",
    "    for mytype in ['background','signal']:\n",
    "        for i in tqdm(range(events_combined.keys()[0],events_combined.keys()[-1]+1), #change the range to accomodate the batches indexes\n",
    "                      total=len(batch)):\n",
    "            issignal = events_combined[i][2100]\n",
    "            if (mytype=='background' and issignal):\n",
    "                continue\n",
    "            elif (mytype=='signal' and issignal==0):\n",
    "                 continue   \n",
    "\n",
    "            pseudojets_input = np.zeros(700, dtype=DTYPE_PTEPM)\n",
    "            for j in range(700): #700 due to the way the jets are padded\n",
    "            #if (events_combined[i][j*3]>0):\n",
    "                pseudojets_input[j]['pT'] = events_combined[i][j*3]\n",
    "                pseudojets_input[j]['eta'] = events_combined[i][j*3+1]\n",
    "                pseudojets_input[j]['phi'] = events_combined[i][j*3+2]\n",
    "                pass\n",
    "            weight_pt = pseudojets_input[:]['pT']/np.max(pseudojets_input[:]['pT'])\n",
    "\n",
    "            if issignal == 1:\n",
    "                DetectorImage(path='../data/signal/',image_size=400,pixel_size=100).pseudojets_images(pseudojets_input,\n",
    "                                                                                                      weight=weight_pt, idx=i)\n",
    "            else:\n",
    "                DetectorImage(path='../data/background/',image_size=400,pixel_size=100).pseudojets_images(pseudojets_input,\n",
    "                                                                                                      weight=weight_pt, idx=i)"
   ]
  },
  {
   "cell_type": "code",
   "execution_count": null,
   "metadata": {},
   "outputs": [],
   "source": []
  }
 ],
 "metadata": {
  "kernelspec": {
   "display_name": "Cosmo-GW",
   "language": "python",
   "name": "cosmo_env"
  },
  "language_info": {
   "codemirror_mode": {
    "name": "ipython",
    "version": 3
   },
   "file_extension": ".py",
   "mimetype": "text/x-python",
   "name": "python",
   "nbconvert_exporter": "python",
   "pygments_lexer": "ipython3",
   "version": "3.7.7"
  }
 },
 "nbformat": 4,
 "nbformat_minor": 4
}
