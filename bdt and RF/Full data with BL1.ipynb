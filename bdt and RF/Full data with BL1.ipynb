{
 "cells": [
  {
   "cell_type": "code",
   "execution_count": 1,
   "metadata": {},
   "outputs": [],
   "source": [
    "%matplotlib inline\n",
    "import numpy as np\n",
    "import glob\n",
    "import pandas as pd\n",
    "import matplotlib\n",
    "import matplotlib.pyplot as plt\n",
    "import random\n",
    "import os\n",
    "from sklearn.preprocessing import label_binarize\n",
    "from sklearn.tree import DecisionTreeClassifier\n",
    "from sklearn.ensemble import AdaBoostClassifier\n",
    "from sklearn.model_selection import train_test_split\n",
    "from sklearn.preprocessing import StandardScaler\n",
    "from sklearn.model_selection import StratifiedKFold\n",
    "import pickle\n",
    "from scipy import stats\n",
    "from scipy.stats import gaussian_kde"
   ]
  },
  {
   "cell_type": "code",
   "execution_count": 2,
   "metadata": {},
   "outputs": [],
   "source": [
    "signal = pd.read_csv('process_data/signal_pred.csv',sep=',')\n",
    "background = pd.read_csv('process_data/background_pred.csv',sep=',')"
   ]
  },
  {
   "cell_type": "code",
   "execution_count": 3,
   "metadata": {},
   "outputs": [],
   "source": [
    "signal['signal'] = 1\n",
    "background['signal'] = 0"
   ]
  },
  {
   "cell_type": "code",
   "execution_count": 4,
   "metadata": {},
   "outputs": [],
   "source": [
    "analysis = pd.concat([signal, background], ignore_index=True)"
   ]
  },
  {
   "cell_type": "code",
   "execution_count": 5,
   "metadata": {},
   "outputs": [
    {
     "data": {
      "text/html": [
       "<div>\n",
       "<style scoped>\n",
       "    .dataframe tbody tr th:only-of-type {\n",
       "        vertical-align: middle;\n",
       "    }\n",
       "\n",
       "    .dataframe tbody tr th {\n",
       "        vertical-align: top;\n",
       "    }\n",
       "\n",
       "    .dataframe thead th {\n",
       "        text-align: right;\n",
       "    }\n",
       "</style>\n",
       "<table border=\"1\" class=\"dataframe\">\n",
       "  <thead>\n",
       "    <tr style=\"text-align: right;\">\n",
       "      <th></th>\n",
       "      <th>Unnamed: 0</th>\n",
       "      <th>pt_j1</th>\n",
       "      <th>m_j1</th>\n",
       "      <th>eta_j1</th>\n",
       "      <th>phi_j1</th>\n",
       "      <th>E_j1</th>\n",
       "      <th>pt_j2</th>\n",
       "      <th>m_j2</th>\n",
       "      <th>eta_j2</th>\n",
       "      <th>phi_j2</th>\n",
       "      <th>...</th>\n",
       "      <th>deltaR2_sj23</th>\n",
       "      <th>deltaR2_sj24</th>\n",
       "      <th>deltaR2_sj34</th>\n",
       "      <th>n_subjets1</th>\n",
       "      <th>n_subjets2</th>\n",
       "      <th>event_idx</th>\n",
       "      <th>img_name</th>\n",
       "      <th>P_BG</th>\n",
       "      <th>P_SIG</th>\n",
       "      <th>signal</th>\n",
       "    </tr>\n",
       "  </thead>\n",
       "  <tbody>\n",
       "    <tr>\n",
       "      <th>0</th>\n",
       "      <td>0</td>\n",
       "      <td>1210.415787</td>\n",
       "      <td>129.499352</td>\n",
       "      <td>-0.744836</td>\n",
       "      <td>-2.883347</td>\n",
       "      <td>1567.345300</td>\n",
       "      <td>1091.785816</td>\n",
       "      <td>155.362262</td>\n",
       "      <td>1.060534</td>\n",
       "      <td>0.264977</td>\n",
       "      <td>...</td>\n",
       "      <td>0.000000</td>\n",
       "      <td>0.000000</td>\n",
       "      <td>0.00000</td>\n",
       "      <td>1</td>\n",
       "      <td>1</td>\n",
       "      <td>4</td>\n",
       "      <td>4.png</td>\n",
       "      <td>0.378957</td>\n",
       "      <td>0.621043</td>\n",
       "      <td>1</td>\n",
       "    </tr>\n",
       "    <tr>\n",
       "      <th>1</th>\n",
       "      <td>1</td>\n",
       "      <td>1787.625573</td>\n",
       "      <td>99.168898</td>\n",
       "      <td>-0.934612</td>\n",
       "      <td>1.185407</td>\n",
       "      <td>2628.753873</td>\n",
       "      <td>1717.649940</td>\n",
       "      <td>515.054419</td>\n",
       "      <td>-1.044915</td>\n",
       "      <td>-1.955165</td>\n",
       "      <td>...</td>\n",
       "      <td>2.512072</td>\n",
       "      <td>2.512072</td>\n",
       "      <td>0.00000</td>\n",
       "      <td>1</td>\n",
       "      <td>2</td>\n",
       "      <td>8</td>\n",
       "      <td>8.png</td>\n",
       "      <td>0.027786</td>\n",
       "      <td>0.972214</td>\n",
       "      <td>1</td>\n",
       "    </tr>\n",
       "    <tr>\n",
       "      <th>2</th>\n",
       "      <td>2</td>\n",
       "      <td>1368.776255</td>\n",
       "      <td>104.840764</td>\n",
       "      <td>-1.136360</td>\n",
       "      <td>1.353935</td>\n",
       "      <td>2354.162865</td>\n",
       "      <td>1283.549433</td>\n",
       "      <td>452.024576</td>\n",
       "      <td>0.053019</td>\n",
       "      <td>-1.781479</td>\n",
       "      <td>...</td>\n",
       "      <td>1.015464</td>\n",
       "      <td>1.926491</td>\n",
       "      <td>2.05649</td>\n",
       "      <td>1</td>\n",
       "      <td>3</td>\n",
       "      <td>19</td>\n",
       "      <td>19.png</td>\n",
       "      <td>0.288431</td>\n",
       "      <td>0.711569</td>\n",
       "      <td>1</td>\n",
       "    </tr>\n",
       "    <tr>\n",
       "      <th>3</th>\n",
       "      <td>3</td>\n",
       "      <td>1659.355146</td>\n",
       "      <td>110.390275</td>\n",
       "      <td>-0.348487</td>\n",
       "      <td>2.475010</td>\n",
       "      <td>1764.594154</td>\n",
       "      <td>1634.435917</td>\n",
       "      <td>487.949083</td>\n",
       "      <td>0.102619</td>\n",
       "      <td>-0.649581</td>\n",
       "      <td>...</td>\n",
       "      <td>0.452664</td>\n",
       "      <td>0.452664</td>\n",
       "      <td>0.00000</td>\n",
       "      <td>1</td>\n",
       "      <td>2</td>\n",
       "      <td>24</td>\n",
       "      <td>24.png</td>\n",
       "      <td>0.093520</td>\n",
       "      <td>0.906480</td>\n",
       "      <td>1</td>\n",
       "    </tr>\n",
       "    <tr>\n",
       "      <th>4</th>\n",
       "      <td>4</td>\n",
       "      <td>1827.270115</td>\n",
       "      <td>551.510487</td>\n",
       "      <td>0.208524</td>\n",
       "      <td>-0.979991</td>\n",
       "      <td>1946.889764</td>\n",
       "      <td>1799.302155</td>\n",
       "      <td>108.942106</td>\n",
       "      <td>-0.452693</td>\n",
       "      <td>2.177153</td>\n",
       "      <td>...</td>\n",
       "      <td>0.000000</td>\n",
       "      <td>0.000000</td>\n",
       "      <td>0.00000</td>\n",
       "      <td>2</td>\n",
       "      <td>1</td>\n",
       "      <td>33</td>\n",
       "      <td>33.png</td>\n",
       "      <td>0.027147</td>\n",
       "      <td>0.972853</td>\n",
       "      <td>1</td>\n",
       "    </tr>\n",
       "  </tbody>\n",
       "</table>\n",
       "<p>5 rows × 36 columns</p>\n",
       "</div>"
      ],
      "text/plain": [
       "   Unnamed: 0        pt_j1        m_j1    eta_j1    phi_j1         E_j1  \\\n",
       "0           0  1210.415787  129.499352 -0.744836 -2.883347  1567.345300   \n",
       "1           1  1787.625573   99.168898 -0.934612  1.185407  2628.753873   \n",
       "2           2  1368.776255  104.840764 -1.136360  1.353935  2354.162865   \n",
       "3           3  1659.355146  110.390275 -0.348487  2.475010  1764.594154   \n",
       "4           4  1827.270115  551.510487  0.208524 -0.979991  1946.889764   \n",
       "\n",
       "         pt_j2        m_j2    eta_j2    phi_j2  ...  deltaR2_sj23  \\\n",
       "0  1091.785816  155.362262  1.060534  0.264977  ...      0.000000   \n",
       "1  1717.649940  515.054419 -1.044915 -1.955165  ...      2.512072   \n",
       "2  1283.549433  452.024576  0.053019 -1.781479  ...      1.015464   \n",
       "3  1634.435917  487.949083  0.102619 -0.649581  ...      0.452664   \n",
       "4  1799.302155  108.942106 -0.452693  2.177153  ...      0.000000   \n",
       "\n",
       "   deltaR2_sj24  deltaR2_sj34  n_subjets1  n_subjets2  event_idx  img_name  \\\n",
       "0      0.000000       0.00000           1           1          4     4.png   \n",
       "1      2.512072       0.00000           1           2          8     8.png   \n",
       "2      1.926491       2.05649           1           3         19    19.png   \n",
       "3      0.452664       0.00000           1           2         24    24.png   \n",
       "4      0.000000       0.00000           2           1         33    33.png   \n",
       "\n",
       "       P_BG     P_SIG  signal  \n",
       "0  0.378957  0.621043       1  \n",
       "1  0.027786  0.972214       1  \n",
       "2  0.288431  0.711569       1  \n",
       "3  0.093520  0.906480       1  \n",
       "4  0.027147  0.972853       1  \n",
       "\n",
       "[5 rows x 36 columns]"
      ]
     },
     "execution_count": 5,
     "metadata": {},
     "output_type": "execute_result"
    }
   ],
   "source": [
    "analysis.head()"
   ]
  },
  {
   "cell_type": "code",
   "execution_count": 6,
   "metadata": {},
   "outputs": [],
   "source": [
    "analysis.drop(['event_idx','img_name','Unnamed: 0', 'P_BG', 'P_SIG'], axis=1, inplace=True)"
   ]
  },
  {
   "cell_type": "code",
   "execution_count": 7,
   "metadata": {},
   "outputs": [
    {
     "data": {
      "text/html": [
       "<div>\n",
       "<style scoped>\n",
       "    .dataframe tbody tr th:only-of-type {\n",
       "        vertical-align: middle;\n",
       "    }\n",
       "\n",
       "    .dataframe tbody tr th {\n",
       "        vertical-align: top;\n",
       "    }\n",
       "\n",
       "    .dataframe thead th {\n",
       "        text-align: right;\n",
       "    }\n",
       "</style>\n",
       "<table border=\"1\" class=\"dataframe\">\n",
       "  <thead>\n",
       "    <tr style=\"text-align: right;\">\n",
       "      <th></th>\n",
       "      <th>pt_j1</th>\n",
       "      <th>m_j1</th>\n",
       "      <th>eta_j1</th>\n",
       "      <th>phi_j1</th>\n",
       "      <th>E_j1</th>\n",
       "      <th>pt_j2</th>\n",
       "      <th>m_j2</th>\n",
       "      <th>eta_j2</th>\n",
       "      <th>phi_j2</th>\n",
       "      <th>E_j2</th>\n",
       "      <th>...</th>\n",
       "      <th>deltaR1_sj34</th>\n",
       "      <th>deltaR2_sj12</th>\n",
       "      <th>deltaR2_sj13</th>\n",
       "      <th>deltaR2_sj14</th>\n",
       "      <th>deltaR2_sj23</th>\n",
       "      <th>deltaR2_sj24</th>\n",
       "      <th>deltaR2_sj34</th>\n",
       "      <th>n_subjets1</th>\n",
       "      <th>n_subjets2</th>\n",
       "      <th>signal</th>\n",
       "    </tr>\n",
       "  </thead>\n",
       "  <tbody>\n",
       "    <tr>\n",
       "      <th>0</th>\n",
       "      <td>1210.415787</td>\n",
       "      <td>129.499352</td>\n",
       "      <td>-0.744836</td>\n",
       "      <td>-2.883347</td>\n",
       "      <td>1567.345300</td>\n",
       "      <td>1091.785816</td>\n",
       "      <td>155.362262</td>\n",
       "      <td>1.060534</td>\n",
       "      <td>0.264977</td>\n",
       "      <td>1772.340209</td>\n",
       "      <td>...</td>\n",
       "      <td>0.0</td>\n",
       "      <td>1.096969</td>\n",
       "      <td>1.096969</td>\n",
       "      <td>1.096969</td>\n",
       "      <td>0.000000</td>\n",
       "      <td>0.000000</td>\n",
       "      <td>0.00000</td>\n",
       "      <td>1</td>\n",
       "      <td>1</td>\n",
       "      <td>1</td>\n",
       "    </tr>\n",
       "    <tr>\n",
       "      <th>1</th>\n",
       "      <td>1787.625573</td>\n",
       "      <td>99.168898</td>\n",
       "      <td>-0.934612</td>\n",
       "      <td>1.185407</td>\n",
       "      <td>2628.753873</td>\n",
       "      <td>1717.649940</td>\n",
       "      <td>515.054419</td>\n",
       "      <td>-1.044915</td>\n",
       "      <td>-1.955165</td>\n",
       "      <td>2791.763302</td>\n",
       "      <td>...</td>\n",
       "      <td>0.0</td>\n",
       "      <td>0.558392</td>\n",
       "      <td>2.013673</td>\n",
       "      <td>2.013673</td>\n",
       "      <td>2.512072</td>\n",
       "      <td>2.512072</td>\n",
       "      <td>0.00000</td>\n",
       "      <td>1</td>\n",
       "      <td>2</td>\n",
       "      <td>1</td>\n",
       "    </tr>\n",
       "    <tr>\n",
       "      <th>2</th>\n",
       "      <td>1368.776255</td>\n",
       "      <td>104.840764</td>\n",
       "      <td>-1.136360</td>\n",
       "      <td>1.353935</td>\n",
       "      <td>2354.162865</td>\n",
       "      <td>1283.549433</td>\n",
       "      <td>452.024576</td>\n",
       "      <td>0.053019</td>\n",
       "      <td>-1.781479</td>\n",
       "      <td>1362.520063</td>\n",
       "      <td>...</td>\n",
       "      <td>0.0</td>\n",
       "      <td>0.605989</td>\n",
       "      <td>0.517361</td>\n",
       "      <td>1.698000</td>\n",
       "      <td>1.015464</td>\n",
       "      <td>1.926491</td>\n",
       "      <td>2.05649</td>\n",
       "      <td>1</td>\n",
       "      <td>3</td>\n",
       "      <td>1</td>\n",
       "    </tr>\n",
       "    <tr>\n",
       "      <th>3</th>\n",
       "      <td>1659.355146</td>\n",
       "      <td>110.390275</td>\n",
       "      <td>-0.348487</td>\n",
       "      <td>2.475010</td>\n",
       "      <td>1764.594154</td>\n",
       "      <td>1634.435917</td>\n",
       "      <td>487.949083</td>\n",
       "      <td>0.102619</td>\n",
       "      <td>-0.649581</td>\n",
       "      <td>1713.973621</td>\n",
       "      <td>...</td>\n",
       "      <td>0.0</td>\n",
       "      <td>0.681621</td>\n",
       "      <td>0.778878</td>\n",
       "      <td>0.778878</td>\n",
       "      <td>0.452664</td>\n",
       "      <td>0.452664</td>\n",
       "      <td>0.00000</td>\n",
       "      <td>1</td>\n",
       "      <td>2</td>\n",
       "      <td>1</td>\n",
       "    </tr>\n",
       "    <tr>\n",
       "      <th>4</th>\n",
       "      <td>1827.270115</td>\n",
       "      <td>551.510487</td>\n",
       "      <td>0.208524</td>\n",
       "      <td>-0.979991</td>\n",
       "      <td>1946.889764</td>\n",
       "      <td>1799.302155</td>\n",
       "      <td>108.942106</td>\n",
       "      <td>-0.452693</td>\n",
       "      <td>2.177153</td>\n",
       "      <td>1989.823176</td>\n",
       "      <td>...</td>\n",
       "      <td>0.0</td>\n",
       "      <td>2.223210</td>\n",
       "      <td>2.223210</td>\n",
       "      <td>2.223210</td>\n",
       "      <td>0.000000</td>\n",
       "      <td>0.000000</td>\n",
       "      <td>0.00000</td>\n",
       "      <td>2</td>\n",
       "      <td>1</td>\n",
       "      <td>1</td>\n",
       "    </tr>\n",
       "  </tbody>\n",
       "</table>\n",
       "<p>5 rows × 31 columns</p>\n",
       "</div>"
      ],
      "text/plain": [
       "         pt_j1        m_j1    eta_j1    phi_j1         E_j1        pt_j2  \\\n",
       "0  1210.415787  129.499352 -0.744836 -2.883347  1567.345300  1091.785816   \n",
       "1  1787.625573   99.168898 -0.934612  1.185407  2628.753873  1717.649940   \n",
       "2  1368.776255  104.840764 -1.136360  1.353935  2354.162865  1283.549433   \n",
       "3  1659.355146  110.390275 -0.348487  2.475010  1764.594154  1634.435917   \n",
       "4  1827.270115  551.510487  0.208524 -0.979991  1946.889764  1799.302155   \n",
       "\n",
       "         m_j2    eta_j2    phi_j2         E_j2  ...  deltaR1_sj34  \\\n",
       "0  155.362262  1.060534  0.264977  1772.340209  ...           0.0   \n",
       "1  515.054419 -1.044915 -1.955165  2791.763302  ...           0.0   \n",
       "2  452.024576  0.053019 -1.781479  1362.520063  ...           0.0   \n",
       "3  487.949083  0.102619 -0.649581  1713.973621  ...           0.0   \n",
       "4  108.942106 -0.452693  2.177153  1989.823176  ...           0.0   \n",
       "\n",
       "   deltaR2_sj12  deltaR2_sj13  deltaR2_sj14  deltaR2_sj23  deltaR2_sj24  \\\n",
       "0      1.096969      1.096969      1.096969      0.000000      0.000000   \n",
       "1      0.558392      2.013673      2.013673      2.512072      2.512072   \n",
       "2      0.605989      0.517361      1.698000      1.015464      1.926491   \n",
       "3      0.681621      0.778878      0.778878      0.452664      0.452664   \n",
       "4      2.223210      2.223210      2.223210      0.000000      0.000000   \n",
       "\n",
       "   deltaR2_sj34  n_subjets1  n_subjets2  signal  \n",
       "0       0.00000           1           1       1  \n",
       "1       0.00000           1           2       1  \n",
       "2       2.05649           1           3       1  \n",
       "3       0.00000           1           2       1  \n",
       "4       0.00000           2           1       1  \n",
       "\n",
       "[5 rows x 31 columns]"
      ]
     },
     "execution_count": 7,
     "metadata": {},
     "output_type": "execute_result"
    }
   ],
   "source": [
    "analysis.head()"
   ]
  },
  {
   "cell_type": "code",
   "execution_count": 8,
   "metadata": {},
   "outputs": [],
   "source": [
    "X = analysis.drop(['signal'], axis=1)\n",
    "y = analysis['signal']\n",
    "X_train, X_test, y_train, y_test = train_test_split(X, y, train_size=0.8, test_size=0.2, random_state=42)"
   ]
  },
  {
   "cell_type": "code",
   "execution_count": 9,
   "metadata": {},
   "outputs": [],
   "source": [
    "bdt_SAMME_R = pickle.load(open('bdt_SAMME_R_BL3.sav', 'rb'))"
   ]
  },
  {
   "cell_type": "code",
   "execution_count": 10,
   "metadata": {},
   "outputs": [],
   "source": [
    "from sklearn.metrics import roc_curve, auc, accuracy_score\n",
    "from scipy.spatial import distance\n",
    "\n",
    "def optim_thres(fpr, tpr, threshold):\n",
    "    TOP = np.array([0,1])\n",
    "    xy = np.array(list(zip(fpr, tpr)))\n",
    "    dist = [(i, distance.euclidean(TOP, v)) for i,v in enumerate(xy)]\n",
    "    dist.sort(key = lambda x: x[1], reverse=False)\n",
    "    i, d = dist[0]\n",
    "    return (fpr[i], tpr[i], threshold[i])\n",
    "\n",
    "\n",
    "def compare_train_test(clf, X_train, y_train, X_test, y_test, bins=50):\n",
    "    decisions = []\n",
    "    for X,y in ((X_train, y_train), (X_test, y_test)):\n",
    "        d1 = clf.decision_function(X[y>0.5]).ravel()\n",
    "        d2 = clf.decision_function(X[y<0.5]).ravel()\n",
    "        decisions += [d1, d2]\n",
    "        \n",
    "    low = min(np.min(d) for d in decisions)\n",
    "    high = max(np.max(d) for d in decisions)\n",
    "    low_high = (low,high)\n",
    "\n",
    "    fig, ax = plt.subplots(1,2,figsize=(12,6))\n",
    "    ax[0].hist(decisions[0],\n",
    "             color='r', alpha=0.5, range=low_high, bins=bins,\n",
    "             histtype='stepfilled', density=True,\n",
    "             label='signal (train)')\n",
    "    ax[0].hist(decisions[1],\n",
    "             color='b', alpha=0.5, range=low_high, bins=bins,\n",
    "             histtype='stepfilled', density=True,\n",
    "             label='background (train)')\n",
    "    hist, bins = np.histogram(decisions[2],\n",
    "                              bins=bins, range=low_high, density=True)\n",
    "    scale = len(decisions[2]) / sum(hist)\n",
    "    err = np.sqrt(hist * scale) / scale\n",
    "\n",
    "    width = (bins[1] - bins[0])\n",
    "    center = (bins[:-1] + bins[1:]) / 2\n",
    "    ax[0].errorbar(center, hist, yerr=err, fmt='o', c='r', label='signal (test)')\n",
    "\n",
    "    hist, bins = np.histogram(decisions[3],\n",
    "                              bins=bins, range=low_high, density=True)\n",
    "\n",
    "    scale = len(decisions[2]) / sum(hist)\n",
    "    err = np.sqrt(hist * scale) / scale\n",
    "\n",
    "    ax[0].errorbar(center, hist, yerr=err, fmt='o', c='b', label='background (test)')\n",
    "\n",
    "    # get the KS score\n",
    "    ks = stats.ks_2samp(decisions[0], decisions[2])\n",
    "    ax[0].plot([], [], ' ', label='KS Statistic (p-value) :'+str(round(ks[0],2))+'('+str(round(ks[1],2))+')')\n",
    "    ax[0].set_xlabel(\"BDT scores\")\n",
    "    ax[0].set_ylabel(\"Arbitrary units\")\n",
    "    ax[0].legend(loc='best')\n",
    "    \n",
    "    ######ROC\n",
    "    probas_ = clf.fit(X_train, y_train).decision_function(X_test)\n",
    "    fpr, tpr, thresholds = roc_curve(y_test, probas_)\n",
    "    roc_auc = auc(fpr, tpr)    \n",
    "    ax[1].plot(1-fpr, tpr, lw=2.2, alpha=0.7, c='r',\n",
    "             label='ROC (AUC = %0.2f)' % (roc_auc))\n",
    " #   ax[1].plot([0, 1], [0, 1], linestyle='--', lw=2, color='k',\n",
    " #        label='Chance', alpha=.8)\n",
    "    ax[1].set_xlim([-0.05, 1.05])\n",
    "    ax[1].set_ylim([-0.05, 1.05])\n",
    "    ax[1].set_xlabel('background rejection')\n",
    "    ax[1].set_ylabel('efficiency')\n",
    "#    ax[1].set_title('Receiver operating characteristic')\n",
    "    xp, yp, thr = optim_thres(fpr, tpr, thresholds)\n",
    "    label = \"threshold: \" + str(round(thr, 4))\n",
    "    ax[1].plot(1-xp, yp, 'b*',label=label)\n",
    "    plt.legend(loc=\"best\")"
   ]
  },
  {
   "cell_type": "code",
   "execution_count": null,
   "metadata": {},
   "outputs": [],
   "source": [
    "#compare_train_test(bdt_SAMME_R,X_train,y_train,X_test,y_test)"
   ]
  },
  {
   "cell_type": "markdown",
   "metadata": {},
   "source": [
    "thr = 0.0004"
   ]
  },
  {
   "cell_type": "code",
   "execution_count": 12,
   "metadata": {},
   "outputs": [],
   "source": [
    "blackbox = pd.read_csv('../notebooks/TablularDataUpdatedCode/combined_BlackBox.csv', sep=',')"
   ]
  },
  {
   "cell_type": "code",
   "execution_count": 13,
   "metadata": {},
   "outputs": [
    {
     "data": {
      "text/plain": [
       "(1000000, 31)"
      ]
     },
     "execution_count": 13,
     "metadata": {},
     "output_type": "execute_result"
    }
   ],
   "source": [
    "blackbox.shape"
   ]
  },
  {
   "cell_type": "code",
   "execution_count": 14,
   "metadata": {},
   "outputs": [
    {
     "data": {
      "text/plain": [
       "Index(['pt_j1', 'm_j1', 'eta_j1', 'phi_j1', 'E_j1', 'pt_j2', 'm_j2', 'eta_j2',\n",
       "       'phi_j2', 'E_j2', 'deltaeta', 'deltaphi', 'mEratio1', 'mEratio2',\n",
       "       'm_jj', 'pt_asym', 'deltaR1_sj12', 'deltaR1_sj13', 'deltaR1_sj14',\n",
       "       'deltaR1_sj23', 'deltaR1_sj24', 'deltaR1_sj34', 'deltaR2_sj12',\n",
       "       'deltaR2_sj13', 'deltaR2_sj14', 'deltaR2_sj23', 'deltaR2_sj24',\n",
       "       'deltaR2_sj34', 'n_subjets1', 'n_subjets2', 'event_idx'],\n",
       "      dtype='object')"
      ]
     },
     "execution_count": 14,
     "metadata": {},
     "output_type": "execute_result"
    }
   ],
   "source": [
    "blackbox.keys()"
   ]
  },
  {
   "cell_type": "code",
   "execution_count": 15,
   "metadata": {},
   "outputs": [],
   "source": [
    "blackbox.drop(['event_idx'], axis=1, inplace=True)"
   ]
  },
  {
   "cell_type": "code",
   "execution_count": 16,
   "metadata": {},
   "outputs": [],
   "source": [
    "decisions_bb = bdt_SAMME_R.decision_function(blackbox)"
   ]
  },
  {
   "cell_type": "code",
   "execution_count": 17,
   "metadata": {},
   "outputs": [
    {
     "data": {
      "text/plain": [
       "(1000000,)"
      ]
     },
     "execution_count": 17,
     "metadata": {},
     "output_type": "execute_result"
    }
   ],
   "source": [
    "decisions_bb.shape"
   ]
  },
  {
   "cell_type": "code",
   "execution_count": 18,
   "metadata": {},
   "outputs": [
    {
     "data": {
      "image/png": "[encoded data removed]",
      "text/plain": [
       "<Figure size 432x288 with 1 Axes>"
      ]
     },
     "metadata": {
      "needs_background": "light"
     },
     "output_type": "display_data"
    }
   ],
   "source": [
    "density_sig = gaussian_kde(decisions_bb[decisions_bb > 0.0004])\n",
    "density_bg = gaussian_kde(decisions_bb[decisions_bb < 0.0004])\n",
    "xs_sig = np.linspace(min(decisions_bb[decisions_bb > 0.0004]),\n",
    "                     max(decisions_bb[decisions_bb > 0.0004]),200)\n",
    "xs_bg = np.linspace(min(decisions_bb[decisions_bb < 0.0004]),\n",
    "                    max(decisions_bb[decisions_bb < 0.0004]), 200)\n",
    "\n",
    "density_sig.covariance_factor = lambda : .25\n",
    "density_sig._compute_covariance()\n",
    "density_bg.covariance_factor = lambda : .25\n",
    "density_bg._compute_covariance()\n",
    "plt.plot(xs_sig,density_sig(xs_sig),label='signal')\n",
    "plt.plot(xs_bg,density_bg(xs_bg),label='background')\n",
    "plt.legend()\n",
    "plt.show()"
   ]
  },
  {
   "cell_type": "code",
   "execution_count": 19,
   "metadata": {},
   "outputs": [],
   "source": [
    "pValue = stats.ks_2samp(density_bg(xs_bg),density_sig(xs_sig))"
   ]
  },
  {
   "cell_type": "code",
   "execution_count": 20,
   "metadata": {},
   "outputs": [
    {
     "data": {
      "text/plain": [
       "Ks_2sampResult(statistic=0.265, pvalue=1.3921047931216453e-06)"
      ]
     },
     "execution_count": 20,
     "metadata": {},
     "output_type": "execute_result"
    }
   ],
   "source": [
    "pValue"
   ]
  },
  {
   "cell_type": "code",
   "execution_count": 21,
   "metadata": {},
   "outputs": [
    {
     "data": {
      "image/png": "[encoded data removed]",
      "text/plain": [
       "<Figure size 432x288 with 1 Axes>"
      ]
     },
     "metadata": {
      "needs_background": "light"
     },
     "output_type": "display_data"
    }
   ],
   "source": [
    "xs_sig2 = np.linspace(min(decisions_bb),\n",
    "                     max(decisions_bb),200)\n",
    "xs_bg2 = np.linspace(min(decisions_bb),\n",
    "                    max(decisions_bb), 200)\n",
    "\n",
    "\n",
    "density_sig.covariance_factor = lambda : .25\n",
    "density_sig._compute_covariance()\n",
    "density_bg.covariance_factor = lambda : .25\n",
    "density_bg._compute_covariance()\n",
    "plt.plot(xs_sig,density_sig(xs_sig2),label='signal')\n",
    "plt.plot(xs_bg,density_bg(xs_bg2),label='background')\n",
    "plt.legend()\n",
    "plt.show()"
   ]
  },
  {
   "cell_type": "code",
   "execution_count": 22,
   "metadata": {},
   "outputs": [
    {
     "data": {
      "text/plain": [
       "Ks_2sampResult(statistic=0.82, pvalue=4.862054680600275e-68)"
      ]
     },
     "execution_count": 22,
     "metadata": {},
     "output_type": "execute_result"
    }
   ],
   "source": [
    "stats.ks_2samp(density_bg(xs_bg2),density_sig(xs_sig2))"
   ]
  },
  {
   "cell_type": "code",
   "execution_count": null,
   "metadata": {},
   "outputs": [],
   "source": []
  },
  {
   "cell_type": "markdown",
   "metadata": {},
   "source": [
    "## Export the selected threshold data"
   ]
  },
  {
   "cell_type": "code",
   "execution_count": 23,
   "metadata": {},
   "outputs": [
    {
     "data": {
      "text/plain": [
       "74002"
      ]
     },
     "execution_count": 23,
     "metadata": {},
     "output_type": "execute_result"
    }
   ],
   "source": [
    "len(decisions_bb[decisions_bb >  0.004])"
   ]
  },
  {
   "cell_type": "code",
   "execution_count": 40,
   "metadata": {},
   "outputs": [],
   "source": [
    "threshold =  0.04"
   ]
  },
  {
   "cell_type": "markdown",
   "metadata": {},
   "source": [
    "- The index in the decisions_bb and blackbox dataframe are the same, so I can mask the blackobox dataframe with these indexes and export the data we want."
   ]
  },
  {
   "cell_type": "code",
   "execution_count": 41,
   "metadata": {},
   "outputs": [],
   "source": [
    "#select the indexes we want for an given threshold:\n",
    "select_signal_idx = np.where(decisions_bb > threshold)[0]\n",
    "select_bg_idx = np.where(decisions_bb < threshold)[0]"
   ]
  },
  {
   "cell_type": "code",
   "execution_count": 42,
   "metadata": {},
   "outputs": [],
   "source": [
    "# using the indexes to mask the dataframe:\n",
    "df_sig_selceted = blackbox.loc[select_signal_idx]\n",
    "df_bg_selected = blackbox.loc[select_bg_idx]"
   ]
  },
  {
   "cell_type": "code",
   "execution_count": 43,
   "metadata": {},
   "outputs": [
    {
     "data": {
      "text/html": [
       "<div>\n",
       "<style scoped>\n",
       "    .dataframe tbody tr th:only-of-type {\n",
       "        vertical-align: middle;\n",
       "    }\n",
       "\n",
       "    .dataframe tbody tr th {\n",
       "        vertical-align: top;\n",
       "    }\n",
       "\n",
       "    .dataframe thead th {\n",
       "        text-align: right;\n",
       "    }\n",
       "</style>\n",
       "<table border=\"1\" class=\"dataframe\">\n",
       "  <thead>\n",
       "    <tr style=\"text-align: right;\">\n",
       "      <th></th>\n",
       "      <th>pt_j1</th>\n",
       "      <th>m_j1</th>\n",
       "      <th>eta_j1</th>\n",
       "      <th>phi_j1</th>\n",
       "      <th>E_j1</th>\n",
       "      <th>pt_j2</th>\n",
       "      <th>m_j2</th>\n",
       "      <th>eta_j2</th>\n",
       "      <th>phi_j2</th>\n",
       "      <th>E_j2</th>\n",
       "      <th>...</th>\n",
       "      <th>deltaR1_sj24</th>\n",
       "      <th>deltaR1_sj34</th>\n",
       "      <th>deltaR2_sj12</th>\n",
       "      <th>deltaR2_sj13</th>\n",
       "      <th>deltaR2_sj14</th>\n",
       "      <th>deltaR2_sj23</th>\n",
       "      <th>deltaR2_sj24</th>\n",
       "      <th>deltaR2_sj34</th>\n",
       "      <th>n_subjets1</th>\n",
       "      <th>n_subjets2</th>\n",
       "    </tr>\n",
       "  </thead>\n",
       "  <tbody>\n",
       "    <tr>\n",
       "      <th>27</th>\n",
       "      <td>1216.433026</td>\n",
       "      <td>100.003465</td>\n",
       "      <td>-1.504489</td>\n",
       "      <td>-1.482843</td>\n",
       "      <td>2874.944395</td>\n",
       "      <td>1132.969431</td>\n",
       "      <td>427.706063</td>\n",
       "      <td>0.111019</td>\n",
       "      <td>1.709174</td>\n",
       "      <td>1217.554137</td>\n",
       "      <td>...</td>\n",
       "      <td>0.000000</td>\n",
       "      <td>0.000000</td>\n",
       "      <td>0.700278</td>\n",
       "      <td>1.662113</td>\n",
       "      <td>1.662113</td>\n",
       "      <td>1.849827</td>\n",
       "      <td>1.849827</td>\n",
       "      <td>0.000000</td>\n",
       "      <td>1</td>\n",
       "      <td>2</td>\n",
       "    </tr>\n",
       "    <tr>\n",
       "      <th>107</th>\n",
       "      <td>1739.202989</td>\n",
       "      <td>757.497827</td>\n",
       "      <td>-0.149996</td>\n",
       "      <td>1.960233</td>\n",
       "      <td>1914.992777</td>\n",
       "      <td>1629.069683</td>\n",
       "      <td>114.233867</td>\n",
       "      <td>0.221336</td>\n",
       "      <td>-0.778164</td>\n",
       "      <td>1673.041149</td>\n",
       "      <td>...</td>\n",
       "      <td>2.266470</td>\n",
       "      <td>1.493558</td>\n",
       "      <td>0.808903</td>\n",
       "      <td>0.808903</td>\n",
       "      <td>0.808903</td>\n",
       "      <td>0.000000</td>\n",
       "      <td>0.000000</td>\n",
       "      <td>0.000000</td>\n",
       "      <td>3</td>\n",
       "      <td>1</td>\n",
       "    </tr>\n",
       "    <tr>\n",
       "      <th>118</th>\n",
       "      <td>1747.166558</td>\n",
       "      <td>833.079166</td>\n",
       "      <td>0.583840</td>\n",
       "      <td>-0.714365</td>\n",
       "      <td>2216.051168</td>\n",
       "      <td>1648.365615</td>\n",
       "      <td>91.381197</td>\n",
       "      <td>-0.296268</td>\n",
       "      <td>2.462043</td>\n",
       "      <td>1723.662931</td>\n",
       "      <td>...</td>\n",
       "      <td>1.078515</td>\n",
       "      <td>1.590320</td>\n",
       "      <td>2.480379</td>\n",
       "      <td>2.480379</td>\n",
       "      <td>2.480379</td>\n",
       "      <td>0.000000</td>\n",
       "      <td>0.000000</td>\n",
       "      <td>0.000000</td>\n",
       "      <td>3</td>\n",
       "      <td>1</td>\n",
       "    </tr>\n",
       "    <tr>\n",
       "      <th>353</th>\n",
       "      <td>2063.986392</td>\n",
       "      <td>98.952852</td>\n",
       "      <td>0.210895</td>\n",
       "      <td>-0.651952</td>\n",
       "      <td>2112.375286</td>\n",
       "      <td>1920.342634</td>\n",
       "      <td>713.817163</td>\n",
       "      <td>0.299638</td>\n",
       "      <td>2.552161</td>\n",
       "      <td>2130.345663</td>\n",
       "      <td>...</td>\n",
       "      <td>0.000000</td>\n",
       "      <td>0.000000</td>\n",
       "      <td>0.687343</td>\n",
       "      <td>0.919157</td>\n",
       "      <td>2.621951</td>\n",
       "      <td>0.664365</td>\n",
       "      <td>2.416701</td>\n",
       "      <td>3.078749</td>\n",
       "      <td>1</td>\n",
       "      <td>3</td>\n",
       "    </tr>\n",
       "    <tr>\n",
       "      <th>541</th>\n",
       "      <td>1712.878448</td>\n",
       "      <td>99.441972</td>\n",
       "      <td>0.114130</td>\n",
       "      <td>-0.186302</td>\n",
       "      <td>1726.911751</td>\n",
       "      <td>1658.703047</td>\n",
       "      <td>490.329490</td>\n",
       "      <td>-0.434227</td>\n",
       "      <td>2.990057</td>\n",
       "      <td>1882.530164</td>\n",
       "      <td>...</td>\n",
       "      <td>0.000000</td>\n",
       "      <td>0.000000</td>\n",
       "      <td>0.569843</td>\n",
       "      <td>2.970624</td>\n",
       "      <td>2.970624</td>\n",
       "      <td>3.107691</td>\n",
       "      <td>3.107691</td>\n",
       "      <td>0.000000</td>\n",
       "      <td>1</td>\n",
       "      <td>2</td>\n",
       "    </tr>\n",
       "  </tbody>\n",
       "</table>\n",
       "<p>5 rows × 30 columns</p>\n",
       "</div>"
      ],
      "text/plain": [
       "           pt_j1        m_j1    eta_j1    phi_j1         E_j1        pt_j2  \\\n",
       "27   1216.433026  100.003465 -1.504489 -1.482843  2874.944395  1132.969431   \n",
       "107  1739.202989  757.497827 -0.149996  1.960233  1914.992777  1629.069683   \n",
       "118  1747.166558  833.079166  0.583840 -0.714365  2216.051168  1648.365615   \n",
       "353  2063.986392   98.952852  0.210895 -0.651952  2112.375286  1920.342634   \n",
       "541  1712.878448   99.441972  0.114130 -0.186302  1726.911751  1658.703047   \n",
       "\n",
       "           m_j2    eta_j2    phi_j2         E_j2  ...  deltaR1_sj24  \\\n",
       "27   427.706063  0.111019  1.709174  1217.554137  ...      0.000000   \n",
       "107  114.233867  0.221336 -0.778164  1673.041149  ...      2.266470   \n",
       "118   91.381197 -0.296268  2.462043  1723.662931  ...      1.078515   \n",
       "353  713.817163  0.299638  2.552161  2130.345663  ...      0.000000   \n",
       "541  490.329490 -0.434227  2.990057  1882.530164  ...      0.000000   \n",
       "\n",
       "     deltaR1_sj34  deltaR2_sj12  deltaR2_sj13  deltaR2_sj14  deltaR2_sj23  \\\n",
       "27       0.000000      0.700278      1.662113      1.662113      1.849827   \n",
       "107      1.493558      0.808903      0.808903      0.808903      0.000000   \n",
       "118      1.590320      2.480379      2.480379      2.480379      0.000000   \n",
       "353      0.000000      0.687343      0.919157      2.621951      0.664365   \n",
       "541      0.000000      0.569843      2.970624      2.970624      3.107691   \n",
       "\n",
       "     deltaR2_sj24  deltaR2_sj34  n_subjets1  n_subjets2  \n",
       "27       1.849827      0.000000           1           2  \n",
       "107      0.000000      0.000000           3           1  \n",
       "118      0.000000      0.000000           3           1  \n",
       "353      2.416701      3.078749           1           3  \n",
       "541      3.107691      0.000000           1           2  \n",
       "\n",
       "[5 rows x 30 columns]"
      ]
     },
     "execution_count": 43,
     "metadata": {},
     "output_type": "execute_result"
    }
   ],
   "source": [
    "df_sig_selceted.head()"
   ]
  },
  {
   "cell_type": "code",
   "execution_count": 44,
   "metadata": {},
   "outputs": [
    {
     "data": {
      "text/html": [
       "<div>\n",
       "<style scoped>\n",
       "    .dataframe tbody tr th:only-of-type {\n",
       "        vertical-align: middle;\n",
       "    }\n",
       "\n",
       "    .dataframe tbody tr th {\n",
       "        vertical-align: top;\n",
       "    }\n",
       "\n",
       "    .dataframe thead th {\n",
       "        text-align: right;\n",
       "    }\n",
       "</style>\n",
       "<table border=\"1\" class=\"dataframe\">\n",
       "  <thead>\n",
       "    <tr style=\"text-align: right;\">\n",
       "      <th></th>\n",
       "      <th>pt_j1</th>\n",
       "      <th>m_j1</th>\n",
       "      <th>eta_j1</th>\n",
       "      <th>phi_j1</th>\n",
       "      <th>E_j1</th>\n",
       "      <th>pt_j2</th>\n",
       "      <th>m_j2</th>\n",
       "      <th>eta_j2</th>\n",
       "      <th>phi_j2</th>\n",
       "      <th>E_j2</th>\n",
       "      <th>...</th>\n",
       "      <th>deltaR1_sj24</th>\n",
       "      <th>deltaR1_sj34</th>\n",
       "      <th>deltaR2_sj12</th>\n",
       "      <th>deltaR2_sj13</th>\n",
       "      <th>deltaR2_sj14</th>\n",
       "      <th>deltaR2_sj23</th>\n",
       "      <th>deltaR2_sj24</th>\n",
       "      <th>deltaR2_sj34</th>\n",
       "      <th>n_subjets1</th>\n",
       "      <th>n_subjets2</th>\n",
       "    </tr>\n",
       "  </thead>\n",
       "  <tbody>\n",
       "    <tr>\n",
       "      <th>0</th>\n",
       "      <td>1566.501884</td>\n",
       "      <td>78.078517</td>\n",
       "      <td>0.910635</td>\n",
       "      <td>0.998456</td>\n",
       "      <td>2263.508385</td>\n",
       "      <td>1474.595018</td>\n",
       "      <td>52.681697</td>\n",
       "      <td>-0.845254</td>\n",
       "      <td>-2.115717</td>\n",
       "      <td>2034.161438</td>\n",
       "      <td>...</td>\n",
       "      <td>0.000000</td>\n",
       "      <td>0.0</td>\n",
       "      <td>2.278551</td>\n",
       "      <td>2.278551</td>\n",
       "      <td>2.278551</td>\n",
       "      <td>0.000000</td>\n",
       "      <td>0.000000</td>\n",
       "      <td>0.0</td>\n",
       "      <td>1</td>\n",
       "      <td>1</td>\n",
       "    </tr>\n",
       "    <tr>\n",
       "      <th>1</th>\n",
       "      <td>1577.694337</td>\n",
       "      <td>556.425085</td>\n",
       "      <td>-0.341437</td>\n",
       "      <td>2.038277</td>\n",
       "      <td>1760.784193</td>\n",
       "      <td>1507.667391</td>\n",
       "      <td>139.651810</td>\n",
       "      <td>0.355842</td>\n",
       "      <td>-1.182940</td>\n",
       "      <td>1610.199591</td>\n",
       "      <td>...</td>\n",
       "      <td>1.437564</td>\n",
       "      <td>0.0</td>\n",
       "      <td>0.465766</td>\n",
       "      <td>1.248572</td>\n",
       "      <td>1.248572</td>\n",
       "      <td>0.928294</td>\n",
       "      <td>0.928294</td>\n",
       "      <td>0.0</td>\n",
       "      <td>2</td>\n",
       "      <td>2</td>\n",
       "    </tr>\n",
       "    <tr>\n",
       "      <th>2</th>\n",
       "      <td>1203.892154</td>\n",
       "      <td>310.425437</td>\n",
       "      <td>0.016417</td>\n",
       "      <td>-0.119756</td>\n",
       "      <td>1243.427091</td>\n",
       "      <td>1120.565432</td>\n",
       "      <td>81.372586</td>\n",
       "      <td>-1.365276</td>\n",
       "      <td>3.047636</td>\n",
       "      <td>2338.979432</td>\n",
       "      <td>...</td>\n",
       "      <td>0.000000</td>\n",
       "      <td>0.0</td>\n",
       "      <td>3.343752</td>\n",
       "      <td>3.343752</td>\n",
       "      <td>3.343752</td>\n",
       "      <td>0.000000</td>\n",
       "      <td>0.000000</td>\n",
       "      <td>0.0</td>\n",
       "      <td>1</td>\n",
       "      <td>1</td>\n",
       "    </tr>\n",
       "    <tr>\n",
       "      <th>3</th>\n",
       "      <td>1341.208547</td>\n",
       "      <td>76.466927</td>\n",
       "      <td>-0.518972</td>\n",
       "      <td>-0.940237</td>\n",
       "      <td>1527.828884</td>\n",
       "      <td>1262.902184</td>\n",
       "      <td>131.437785</td>\n",
       "      <td>-0.570886</td>\n",
       "      <td>2.177688</td>\n",
       "      <td>1480.196234</td>\n",
       "      <td>...</td>\n",
       "      <td>0.000000</td>\n",
       "      <td>0.0</td>\n",
       "      <td>2.252883</td>\n",
       "      <td>2.252883</td>\n",
       "      <td>2.252883</td>\n",
       "      <td>0.000000</td>\n",
       "      <td>0.000000</td>\n",
       "      <td>0.0</td>\n",
       "      <td>1</td>\n",
       "      <td>1</td>\n",
       "    </tr>\n",
       "    <tr>\n",
       "      <th>4</th>\n",
       "      <td>1511.157066</td>\n",
       "      <td>142.948981</td>\n",
       "      <td>0.079453</td>\n",
       "      <td>2.021742</td>\n",
       "      <td>1522.654315</td>\n",
       "      <td>1052.734327</td>\n",
       "      <td>54.471954</td>\n",
       "      <td>-0.039693</td>\n",
       "      <td>-1.645257</td>\n",
       "      <td>1054.970977</td>\n",
       "      <td>...</td>\n",
       "      <td>0.000000</td>\n",
       "      <td>0.0</td>\n",
       "      <td>1.644629</td>\n",
       "      <td>1.644629</td>\n",
       "      <td>1.644629</td>\n",
       "      <td>0.000000</td>\n",
       "      <td>0.000000</td>\n",
       "      <td>0.0</td>\n",
       "      <td>1</td>\n",
       "      <td>1</td>\n",
       "    </tr>\n",
       "  </tbody>\n",
       "</table>\n",
       "<p>5 rows × 30 columns</p>\n",
       "</div>"
      ],
      "text/plain": [
       "         pt_j1        m_j1    eta_j1    phi_j1         E_j1        pt_j2  \\\n",
       "0  1566.501884   78.078517  0.910635  0.998456  2263.508385  1474.595018   \n",
       "1  1577.694337  556.425085 -0.341437  2.038277  1760.784193  1507.667391   \n",
       "2  1203.892154  310.425437  0.016417 -0.119756  1243.427091  1120.565432   \n",
       "3  1341.208547   76.466927 -0.518972 -0.940237  1527.828884  1262.902184   \n",
       "4  1511.157066  142.948981  0.079453  2.021742  1522.654315  1052.734327   \n",
       "\n",
       "         m_j2    eta_j2    phi_j2         E_j2  ...  deltaR1_sj24  \\\n",
       "0   52.681697 -0.845254 -2.115717  2034.161438  ...      0.000000   \n",
       "1  139.651810  0.355842 -1.182940  1610.199591  ...      1.437564   \n",
       "2   81.372586 -1.365276  3.047636  2338.979432  ...      0.000000   \n",
       "3  131.437785 -0.570886  2.177688  1480.196234  ...      0.000000   \n",
       "4   54.471954 -0.039693 -1.645257  1054.970977  ...      0.000000   \n",
       "\n",
       "   deltaR1_sj34  deltaR2_sj12  deltaR2_sj13  deltaR2_sj14  deltaR2_sj23  \\\n",
       "0           0.0      2.278551      2.278551      2.278551      0.000000   \n",
       "1           0.0      0.465766      1.248572      1.248572      0.928294   \n",
       "2           0.0      3.343752      3.343752      3.343752      0.000000   \n",
       "3           0.0      2.252883      2.252883      2.252883      0.000000   \n",
       "4           0.0      1.644629      1.644629      1.644629      0.000000   \n",
       "\n",
       "   deltaR2_sj24  deltaR2_sj34  n_subjets1  n_subjets2  \n",
       "0      0.000000           0.0           1           1  \n",
       "1      0.928294           0.0           2           2  \n",
       "2      0.000000           0.0           1           1  \n",
       "3      0.000000           0.0           1           1  \n",
       "4      0.000000           0.0           1           1  \n",
       "\n",
       "[5 rows x 30 columns]"
      ]
     },
     "execution_count": 44,
     "metadata": {},
     "output_type": "execute_result"
    }
   ],
   "source": [
    "df_bg_selected.head()"
   ]
  },
  {
   "cell_type": "code",
   "execution_count": 45,
   "metadata": {},
   "outputs": [
    {
     "data": {
      "text/plain": [
       "((989707, 30), (10293, 30))"
      ]
     },
     "execution_count": 45,
     "metadata": {},
     "output_type": "execute_result"
    }
   ],
   "source": [
    "#check the lenght and if the shapes match with the original dataframe:\n",
    "df_bg_selected.shape, df_sig_selceted.shape"
   ]
  },
  {
   "cell_type": "code",
   "execution_count": 46,
   "metadata": {},
   "outputs": [
    {
     "data": {
      "text/plain": [
       "True"
      ]
     },
     "execution_count": 46,
     "metadata": {},
     "output_type": "execute_result"
    }
   ],
   "source": [
    "df_bg_selected.shape[0] + df_sig_selceted.shape[0] == blackbox.shape[0]"
   ]
  },
  {
   "cell_type": "code",
   "execution_count": 47,
   "metadata": {},
   "outputs": [],
   "source": [
    "# export the selected data to csv:\n",
    "df_sig_selceted.to_csv('../selected data csv BL1/signal/selected_signal_thr_0d04.csv', sep=',')\n",
    "df_bg_selected.to_csv('../selected data csv BL1/background/selected_background_thr_0d04.csv', sep=',')"
   ]
  },
  {
   "cell_type": "code",
   "execution_count": null,
   "metadata": {},
   "outputs": [],
   "source": [
    "blackbox[(blackbox['m_j1'] > 50.) & (blackbox['m_j1'] < 150.)].m_j1.describe()"
   ]
  },
  {
   "cell_type": "code",
   "execution_count": null,
   "metadata": {},
   "outputs": [],
   "source": [
    "df_sig_selceted[(df_sig_selceted['m_j1'] > 50.) & (df_sig_selceted['m_j1'] < 150.)].m_j1.describe()"
   ]
  },
  {
   "cell_type": "code",
   "execution_count": null,
   "metadata": {},
   "outputs": [],
   "source": [
    "len(df_sig_selceted[(df_sig_selceted['m_j1'] > 50.) & (df_sig_selceted['m_j1'] < 150.)])"
   ]
  },
  {
   "cell_type": "code",
   "execution_count": null,
   "metadata": {},
   "outputs": [],
   "source": []
  }
 ],
 "metadata": {
  "kernelspec": {
   "display_name": "Scikit-HEP",
   "language": "python",
   "name": "scikit-hep"
  },
  "language_info": {
   "codemirror_mode": {
    "name": "ipython",
    "version": 3
   },
   "file_extension": ".py",
   "mimetype": "text/x-python",
   "name": "python",
   "nbconvert_exporter": "python",
   "pygments_lexer": "ipython3",
   "version": "3.6.7"
  }
 },
 "nbformat": 4,
 "nbformat_minor": 4
}
