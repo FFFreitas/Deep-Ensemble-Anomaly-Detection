{
 "cells": [
  {
   "cell_type": "code",
   "execution_count": 1,
   "metadata": {},
   "outputs": [],
   "source": [
    "%matplotlib inline\n",
    "import numpy as np\n",
    "import glob\n",
    "import pandas as pd\n",
    "import matplotlib\n",
    "import matplotlib.pyplot as plt\n",
    "import random\n",
    "import os\n",
    "from sklearn.preprocessing import label_binarize\n",
    "from sklearn.tree import DecisionTreeClassifier\n",
    "from sklearn.ensemble import AdaBoostClassifier\n",
    "from sklearn.model_selection import train_test_split\n",
    "from sklearn.preprocessing import StandardScaler\n",
    "from sklearn.model_selection import StratifiedKFold\n",
    "import pickle\n",
    "from scipy import stats\n",
    "from scipy.stats import gaussian_kde"
   ]
  },
  {
   "cell_type": "code",
   "execution_count": 2,
   "metadata": {},
   "outputs": [],
   "source": [
    "signal = pd.read_csv('process_data/signal_pred.csv',sep=',')\n",
    "background = pd.read_csv('process_data/background_pred.csv',sep=',')"
   ]
  },
  {
   "cell_type": "code",
   "execution_count": 3,
   "metadata": {},
   "outputs": [],
   "source": [
    "signal['signal'] = 1\n",
    "background['signal'] = 0"
   ]
  },
  {
   "cell_type": "code",
   "execution_count": 4,
   "metadata": {},
   "outputs": [],
   "source": [
    "analysis = pd.concat([signal, background], ignore_index=True)"
   ]
  },
  {
   "cell_type": "code",
   "execution_count": 5,
   "metadata": {},
   "outputs": [
    {
     "data": {
      "text/html": [
       "<div>\n",
       "<style scoped>\n",
       "    .dataframe tbody tr th:only-of-type {\n",
       "        vertical-align: middle;\n",
       "    }\n",
       "\n",
       "    .dataframe tbody tr th {\n",
       "        vertical-align: top;\n",
       "    }\n",
       "\n",
       "    .dataframe thead th {\n",
       "        text-align: right;\n",
       "    }\n",
       "</style>\n",
       "<table border=\"1\" class=\"dataframe\">\n",
       "  <thead>\n",
       "    <tr style=\"text-align: right;\">\n",
       "      <th></th>\n",
       "      <th>Unnamed: 0</th>\n",
       "      <th>pt_j1</th>\n",
       "      <th>m_j1</th>\n",
       "      <th>eta_j1</th>\n",
       "      <th>phi_j1</th>\n",
       "      <th>E_j1</th>\n",
       "      <th>pt_j2</th>\n",
       "      <th>m_j2</th>\n",
       "      <th>eta_j2</th>\n",
       "      <th>phi_j2</th>\n",
       "      <th>...</th>\n",
       "      <th>deltaR2_sj23</th>\n",
       "      <th>deltaR2_sj24</th>\n",
       "      <th>deltaR2_sj34</th>\n",
       "      <th>n_subjets1</th>\n",
       "      <th>n_subjets2</th>\n",
       "      <th>event_idx</th>\n",
       "      <th>img_name</th>\n",
       "      <th>P_BG</th>\n",
       "      <th>P_SIG</th>\n",
       "      <th>signal</th>\n",
       "    </tr>\n",
       "  </thead>\n",
       "  <tbody>\n",
       "    <tr>\n",
       "      <th>0</th>\n",
       "      <td>0</td>\n",
       "      <td>1210.415787</td>\n",
       "      <td>129.499352</td>\n",
       "      <td>-0.744836</td>\n",
       "      <td>-2.883347</td>\n",
       "      <td>1567.345300</td>\n",
       "      <td>1091.785816</td>\n",
       "      <td>155.362262</td>\n",
       "      <td>1.060534</td>\n",
       "      <td>0.264977</td>\n",
       "      <td>...</td>\n",
       "      <td>0.000000</td>\n",
       "      <td>0.000000</td>\n",
       "      <td>0.00000</td>\n",
       "      <td>1</td>\n",
       "      <td>1</td>\n",
       "      <td>4</td>\n",
       "      <td>4.png</td>\n",
       "      <td>0.378957</td>\n",
       "      <td>0.621043</td>\n",
       "      <td>1</td>\n",
       "    </tr>\n",
       "    <tr>\n",
       "      <th>1</th>\n",
       "      <td>1</td>\n",
       "      <td>1787.625573</td>\n",
       "      <td>99.168898</td>\n",
       "      <td>-0.934612</td>\n",
       "      <td>1.185407</td>\n",
       "      <td>2628.753873</td>\n",
       "      <td>1717.649940</td>\n",
       "      <td>515.054419</td>\n",
       "      <td>-1.044915</td>\n",
       "      <td>-1.955165</td>\n",
       "      <td>...</td>\n",
       "      <td>2.512072</td>\n",
       "      <td>2.512072</td>\n",
       "      <td>0.00000</td>\n",
       "      <td>1</td>\n",
       "      <td>2</td>\n",
       "      <td>8</td>\n",
       "      <td>8.png</td>\n",
       "      <td>0.027786</td>\n",
       "      <td>0.972214</td>\n",
       "      <td>1</td>\n",
       "    </tr>\n",
       "    <tr>\n",
       "      <th>2</th>\n",
       "      <td>2</td>\n",
       "      <td>1368.776255</td>\n",
       "      <td>104.840764</td>\n",
       "      <td>-1.136360</td>\n",
       "      <td>1.353935</td>\n",
       "      <td>2354.162865</td>\n",
       "      <td>1283.549433</td>\n",
       "      <td>452.024576</td>\n",
       "      <td>0.053019</td>\n",
       "      <td>-1.781479</td>\n",
       "      <td>...</td>\n",
       "      <td>1.015464</td>\n",
       "      <td>1.926491</td>\n",
       "      <td>2.05649</td>\n",
       "      <td>1</td>\n",
       "      <td>3</td>\n",
       "      <td>19</td>\n",
       "      <td>19.png</td>\n",
       "      <td>0.288431</td>\n",
       "      <td>0.711569</td>\n",
       "      <td>1</td>\n",
       "    </tr>\n",
       "    <tr>\n",
       "      <th>3</th>\n",
       "      <td>3</td>\n",
       "      <td>1659.355146</td>\n",
       "      <td>110.390275</td>\n",
       "      <td>-0.348487</td>\n",
       "      <td>2.475010</td>\n",
       "      <td>1764.594154</td>\n",
       "      <td>1634.435917</td>\n",
       "      <td>487.949083</td>\n",
       "      <td>0.102619</td>\n",
       "      <td>-0.649581</td>\n",
       "      <td>...</td>\n",
       "      <td>0.452664</td>\n",
       "      <td>0.452664</td>\n",
       "      <td>0.00000</td>\n",
       "      <td>1</td>\n",
       "      <td>2</td>\n",
       "      <td>24</td>\n",
       "      <td>24.png</td>\n",
       "      <td>0.093520</td>\n",
       "      <td>0.906480</td>\n",
       "      <td>1</td>\n",
       "    </tr>\n",
       "    <tr>\n",
       "      <th>4</th>\n",
       "      <td>4</td>\n",
       "      <td>1827.270115</td>\n",
       "      <td>551.510487</td>\n",
       "      <td>0.208524</td>\n",
       "      <td>-0.979991</td>\n",
       "      <td>1946.889764</td>\n",
       "      <td>1799.302155</td>\n",
       "      <td>108.942106</td>\n",
       "      <td>-0.452693</td>\n",
       "      <td>2.177153</td>\n",
       "      <td>...</td>\n",
       "      <td>0.000000</td>\n",
       "      <td>0.000000</td>\n",
       "      <td>0.00000</td>\n",
       "      <td>2</td>\n",
       "      <td>1</td>\n",
       "      <td>33</td>\n",
       "      <td>33.png</td>\n",
       "      <td>0.027147</td>\n",
       "      <td>0.972853</td>\n",
       "      <td>1</td>\n",
       "    </tr>\n",
       "  </tbody>\n",
       "</table>\n",
       "<p>5 rows × 36 columns</p>\n",
       "</div>"
      ],
      "text/plain": [
       "   Unnamed: 0        pt_j1        m_j1    eta_j1    phi_j1         E_j1  \\\n",
       "0           0  1210.415787  129.499352 -0.744836 -2.883347  1567.345300   \n",
       "1           1  1787.625573   99.168898 -0.934612  1.185407  2628.753873   \n",
       "2           2  1368.776255  104.840764 -1.136360  1.353935  2354.162865   \n",
       "3           3  1659.355146  110.390275 -0.348487  2.475010  1764.594154   \n",
       "4           4  1827.270115  551.510487  0.208524 -0.979991  1946.889764   \n",
       "\n",
       "         pt_j2        m_j2    eta_j2    phi_j2  ...  deltaR2_sj23  \\\n",
       "0  1091.785816  155.362262  1.060534  0.264977  ...      0.000000   \n",
       "1  1717.649940  515.054419 -1.044915 -1.955165  ...      2.512072   \n",
       "2  1283.549433  452.024576  0.053019 -1.781479  ...      1.015464   \n",
       "3  1634.435917  487.949083  0.102619 -0.649581  ...      0.452664   \n",
       "4  1799.302155  108.942106 -0.452693  2.177153  ...      0.000000   \n",
       "\n",
       "   deltaR2_sj24  deltaR2_sj34  n_subjets1  n_subjets2  event_idx  img_name  \\\n",
       "0      0.000000       0.00000           1           1          4     4.png   \n",
       "1      2.512072       0.00000           1           2          8     8.png   \n",
       "2      1.926491       2.05649           1           3         19    19.png   \n",
       "3      0.452664       0.00000           1           2         24    24.png   \n",
       "4      0.000000       0.00000           2           1         33    33.png   \n",
       "\n",
       "       P_BG     P_SIG  signal  \n",
       "0  0.378957  0.621043       1  \n",
       "1  0.027786  0.972214       1  \n",
       "2  0.288431  0.711569       1  \n",
       "3  0.093520  0.906480       1  \n",
       "4  0.027147  0.972853       1  \n",
       "\n",
       "[5 rows x 36 columns]"
      ]
     },
     "execution_count": 5,
     "metadata": {},
     "output_type": "execute_result"
    }
   ],
   "source": [
    "analysis.head()"
   ]
  },
  {
   "cell_type": "code",
   "execution_count": 6,
   "metadata": {},
   "outputs": [],
   "source": [
    "analysis.drop(['event_idx','img_name','Unnamed: 0', 'P_BG', 'P_SIG'], axis=1, inplace=True)"
   ]
  },
  {
   "cell_type": "code",
   "execution_count": 7,
   "metadata": {},
   "outputs": [
    {
     "data": {
      "text/html": [
       "<div>\n",
       "<style scoped>\n",
       "    .dataframe tbody tr th:only-of-type {\n",
       "        vertical-align: middle;\n",
       "    }\n",
       "\n",
       "    .dataframe tbody tr th {\n",
       "        vertical-align: top;\n",
       "    }\n",
       "\n",
       "    .dataframe thead th {\n",
       "        text-align: right;\n",
       "    }\n",
       "</style>\n",
       "<table border=\"1\" class=\"dataframe\">\n",
       "  <thead>\n",
       "    <tr style=\"text-align: right;\">\n",
       "      <th></th>\n",
       "      <th>pt_j1</th>\n",
       "      <th>m_j1</th>\n",
       "      <th>eta_j1</th>\n",
       "      <th>phi_j1</th>\n",
       "      <th>E_j1</th>\n",
       "      <th>pt_j2</th>\n",
       "      <th>m_j2</th>\n",
       "      <th>eta_j2</th>\n",
       "      <th>phi_j2</th>\n",
       "      <th>E_j2</th>\n",
       "      <th>...</th>\n",
       "      <th>deltaR1_sj34</th>\n",
       "      <th>deltaR2_sj12</th>\n",
       "      <th>deltaR2_sj13</th>\n",
       "      <th>deltaR2_sj14</th>\n",
       "      <th>deltaR2_sj23</th>\n",
       "      <th>deltaR2_sj24</th>\n",
       "      <th>deltaR2_sj34</th>\n",
       "      <th>n_subjets1</th>\n",
       "      <th>n_subjets2</th>\n",
       "      <th>signal</th>\n",
       "    </tr>\n",
       "  </thead>\n",
       "  <tbody>\n",
       "    <tr>\n",
       "      <th>0</th>\n",
       "      <td>1210.415787</td>\n",
       "      <td>129.499352</td>\n",
       "      <td>-0.744836</td>\n",
       "      <td>-2.883347</td>\n",
       "      <td>1567.345300</td>\n",
       "      <td>1091.785816</td>\n",
       "      <td>155.362262</td>\n",
       "      <td>1.060534</td>\n",
       "      <td>0.264977</td>\n",
       "      <td>1772.340209</td>\n",
       "      <td>...</td>\n",
       "      <td>0.0</td>\n",
       "      <td>1.096969</td>\n",
       "      <td>1.096969</td>\n",
       "      <td>1.096969</td>\n",
       "      <td>0.000000</td>\n",
       "      <td>0.000000</td>\n",
       "      <td>0.00000</td>\n",
       "      <td>1</td>\n",
       "      <td>1</td>\n",
       "      <td>1</td>\n",
       "    </tr>\n",
       "    <tr>\n",
       "      <th>1</th>\n",
       "      <td>1787.625573</td>\n",
       "      <td>99.168898</td>\n",
       "      <td>-0.934612</td>\n",
       "      <td>1.185407</td>\n",
       "      <td>2628.753873</td>\n",
       "      <td>1717.649940</td>\n",
       "      <td>515.054419</td>\n",
       "      <td>-1.044915</td>\n",
       "      <td>-1.955165</td>\n",
       "      <td>2791.763302</td>\n",
       "      <td>...</td>\n",
       "      <td>0.0</td>\n",
       "      <td>0.558392</td>\n",
       "      <td>2.013673</td>\n",
       "      <td>2.013673</td>\n",
       "      <td>2.512072</td>\n",
       "      <td>2.512072</td>\n",
       "      <td>0.00000</td>\n",
       "      <td>1</td>\n",
       "      <td>2</td>\n",
       "      <td>1</td>\n",
       "    </tr>\n",
       "    <tr>\n",
       "      <th>2</th>\n",
       "      <td>1368.776255</td>\n",
       "      <td>104.840764</td>\n",
       "      <td>-1.136360</td>\n",
       "      <td>1.353935</td>\n",
       "      <td>2354.162865</td>\n",
       "      <td>1283.549433</td>\n",
       "      <td>452.024576</td>\n",
       "      <td>0.053019</td>\n",
       "      <td>-1.781479</td>\n",
       "      <td>1362.520063</td>\n",
       "      <td>...</td>\n",
       "      <td>0.0</td>\n",
       "      <td>0.605989</td>\n",
       "      <td>0.517361</td>\n",
       "      <td>1.698000</td>\n",
       "      <td>1.015464</td>\n",
       "      <td>1.926491</td>\n",
       "      <td>2.05649</td>\n",
       "      <td>1</td>\n",
       "      <td>3</td>\n",
       "      <td>1</td>\n",
       "    </tr>\n",
       "    <tr>\n",
       "      <th>3</th>\n",
       "      <td>1659.355146</td>\n",
       "      <td>110.390275</td>\n",
       "      <td>-0.348487</td>\n",
       "      <td>2.475010</td>\n",
       "      <td>1764.594154</td>\n",
       "      <td>1634.435917</td>\n",
       "      <td>487.949083</td>\n",
       "      <td>0.102619</td>\n",
       "      <td>-0.649581</td>\n",
       "      <td>1713.973621</td>\n",
       "      <td>...</td>\n",
       "      <td>0.0</td>\n",
       "      <td>0.681621</td>\n",
       "      <td>0.778878</td>\n",
       "      <td>0.778878</td>\n",
       "      <td>0.452664</td>\n",
       "      <td>0.452664</td>\n",
       "      <td>0.00000</td>\n",
       "      <td>1</td>\n",
       "      <td>2</td>\n",
       "      <td>1</td>\n",
       "    </tr>\n",
       "    <tr>\n",
       "      <th>4</th>\n",
       "      <td>1827.270115</td>\n",
       "      <td>551.510487</td>\n",
       "      <td>0.208524</td>\n",
       "      <td>-0.979991</td>\n",
       "      <td>1946.889764</td>\n",
       "      <td>1799.302155</td>\n",
       "      <td>108.942106</td>\n",
       "      <td>-0.452693</td>\n",
       "      <td>2.177153</td>\n",
       "      <td>1989.823176</td>\n",
       "      <td>...</td>\n",
       "      <td>0.0</td>\n",
       "      <td>2.223210</td>\n",
       "      <td>2.223210</td>\n",
       "      <td>2.223210</td>\n",
       "      <td>0.000000</td>\n",
       "      <td>0.000000</td>\n",
       "      <td>0.00000</td>\n",
       "      <td>2</td>\n",
       "      <td>1</td>\n",
       "      <td>1</td>\n",
       "    </tr>\n",
       "  </tbody>\n",
       "</table>\n",
       "<p>5 rows × 31 columns</p>\n",
       "</div>"
      ],
      "text/plain": [
       "         pt_j1        m_j1    eta_j1    phi_j1         E_j1        pt_j2  \\\n",
       "0  1210.415787  129.499352 -0.744836 -2.883347  1567.345300  1091.785816   \n",
       "1  1787.625573   99.168898 -0.934612  1.185407  2628.753873  1717.649940   \n",
       "2  1368.776255  104.840764 -1.136360  1.353935  2354.162865  1283.549433   \n",
       "3  1659.355146  110.390275 -0.348487  2.475010  1764.594154  1634.435917   \n",
       "4  1827.270115  551.510487  0.208524 -0.979991  1946.889764  1799.302155   \n",
       "\n",
       "         m_j2    eta_j2    phi_j2         E_j2  ...  deltaR1_sj34  \\\n",
       "0  155.362262  1.060534  0.264977  1772.340209  ...           0.0   \n",
       "1  515.054419 -1.044915 -1.955165  2791.763302  ...           0.0   \n",
       "2  452.024576  0.053019 -1.781479  1362.520063  ...           0.0   \n",
       "3  487.949083  0.102619 -0.649581  1713.973621  ...           0.0   \n",
       "4  108.942106 -0.452693  2.177153  1989.823176  ...           0.0   \n",
       "\n",
       "   deltaR2_sj12  deltaR2_sj13  deltaR2_sj14  deltaR2_sj23  deltaR2_sj24  \\\n",
       "0      1.096969      1.096969      1.096969      0.000000      0.000000   \n",
       "1      0.558392      2.013673      2.013673      2.512072      2.512072   \n",
       "2      0.605989      0.517361      1.698000      1.015464      1.926491   \n",
       "3      0.681621      0.778878      0.778878      0.452664      0.452664   \n",
       "4      2.223210      2.223210      2.223210      0.000000      0.000000   \n",
       "\n",
       "   deltaR2_sj34  n_subjets1  n_subjets2  signal  \n",
       "0       0.00000           1           1       1  \n",
       "1       0.00000           1           2       1  \n",
       "2       2.05649           1           3       1  \n",
       "3       0.00000           1           2       1  \n",
       "4       0.00000           2           1       1  \n",
       "\n",
       "[5 rows x 31 columns]"
      ]
     },
     "execution_count": 7,
     "metadata": {},
     "output_type": "execute_result"
    }
   ],
   "source": [
    "analysis.head()"
   ]
  },
  {
   "cell_type": "code",
   "execution_count": 8,
   "metadata": {},
   "outputs": [],
   "source": [
    "X = analysis.drop(['signal'], axis=1)\n",
    "y = analysis['signal']\n",
    "X_train, X_test, y_train, y_test = train_test_split(X, y, train_size=0.8, test_size=0.2, random_state=42)"
   ]
  },
  {
   "cell_type": "code",
   "execution_count": 9,
   "metadata": {},
   "outputs": [],
   "source": [
    "bdt_SAMME_R = pickle.load(open('bdt_SAMME_R_BL3.sav', 'rb'))"
   ]
  },
  {
   "cell_type": "code",
   "execution_count": 21,
   "metadata": {},
   "outputs": [],
   "source": [
    "from matplotlib import rc\n",
    "plt.rcParams['font.size'] = 18\n",
    "rc('text', usetex=True)\n",
    "rc('font',**{'family':'sans-serif', 'sans-serif':['cmr']})\n",
    "rc('font',**{'family':'serif', 'serif':['cmr']})"
   ]
  },
  {
   "cell_type": "code",
   "execution_count": 10,
   "metadata": {},
   "outputs": [],
   "source": [
    "from sklearn.metrics import roc_curve, auc, accuracy_score\n",
    "from scipy.spatial import distance\n",
    "\n",
    "def optim_thres(fpr, tpr, threshold):\n",
    "    TOP = np.array([0,1])\n",
    "    xy = np.array(list(zip(fpr, tpr)))\n",
    "    dist = [(i, distance.euclidean(TOP, v)) for i,v in enumerate(xy)]\n",
    "    dist.sort(key = lambda x: x[1], reverse=False)\n",
    "    i, d = dist[0]\n",
    "    return (fpr[i], tpr[i], threshold[i])\n",
    "\n",
    "\n",
    "def compare_train_test(clf, X_train, y_train, X_test, y_test, bins=50):\n",
    "    decisions = []\n",
    "    for X,y in ((X_train, y_train), (X_test, y_test)):\n",
    "        d1 = clf.decision_function(X[y>0.5]).ravel()\n",
    "        d2 = clf.decision_function(X[y<0.5]).ravel()\n",
    "        decisions += [d1, d2]\n",
    "        \n",
    "    low = min(np.min(d) for d in decisions)\n",
    "    high = max(np.max(d) for d in decisions)\n",
    "    low_high = (low,high)\n",
    "\n",
    "    fig, ax = plt.subplots(1,2,figsize=(12,6))\n",
    "    ax[0].hist(decisions[0],\n",
    "             color='r', alpha=0.5, range=low_high, bins=bins,\n",
    "             histtype='stepfilled', density=True,\n",
    "             label='signal (train)')\n",
    "    ax[0].hist(decisions[1],\n",
    "             color='b', alpha=0.5, range=low_high, bins=bins,\n",
    "             histtype='stepfilled', density=True,\n",
    "             label='background (train)')\n",
    "    hist, bins = np.histogram(decisions[2],\n",
    "                              bins=bins, range=low_high, density=True)\n",
    "    scale = len(decisions[2]) / sum(hist)\n",
    "    err = np.sqrt(hist * scale) / scale\n",
    "\n",
    "    width = (bins[1] - bins[0])\n",
    "    center = (bins[:-1] + bins[1:]) / 2\n",
    "    ax[0].errorbar(center, hist, yerr=err, fmt='o', c='r', label='signal (test)')\n",
    "\n",
    "    hist, bins = np.histogram(decisions[3],\n",
    "                              bins=bins, range=low_high, density=True)\n",
    "\n",
    "    scale = len(decisions[2]) / sum(hist)\n",
    "    err = np.sqrt(hist * scale) / scale\n",
    "\n",
    "    ax[0].errorbar(center, hist, yerr=err, fmt='o', c='b', label='background (test)')\n",
    "\n",
    "    # get the KS score\n",
    "    ks = stats.ks_2samp(decisions[0], decisions[2])\n",
    "    ax[0].plot([], [], ' ', label='KS Statistic (p-value) :'+str(round(ks[0],2))+'('+str(round(ks[1],2))+')')\n",
    "    ax[0].set_xlabel(\"BDT scores\")\n",
    "    ax[0].set_ylabel(\"Arbitrary units\")\n",
    "    ax[0].legend(loc='best')\n",
    "    \n",
    "    ######ROC\n",
    "    probas_ = clf.fit(X_train, y_train).decision_function(X_test)\n",
    "    fpr, tpr, thresholds = roc_curve(y_test, probas_)\n",
    "    roc_auc = auc(fpr, tpr)    \n",
    "    ax[1].plot(1-fpr, tpr, lw=2.2, alpha=0.7, c='r',\n",
    "             label='ROC (AUC = %0.2f)' % (roc_auc))\n",
    " #   ax[1].plot([0, 1], [0, 1], linestyle='--', lw=2, color='k',\n",
    " #        label='Chance', alpha=.8)\n",
    "    ax[1].set_xlim([-0.05, 1.05])\n",
    "    ax[1].set_ylim([-0.05, 1.05])\n",
    "    ax[1].set_xlabel('background rejection')\n",
    "    ax[1].set_ylabel('efficiency')\n",
    "#    ax[1].set_title('Receiver operating characteristic')\n",
    "    xp, yp, thr = optim_thres(fpr, tpr, thresholds)\n",
    "    label = \"threshold: \" + str(round(thr, 4))\n",
    "    ax[1].plot(1-xp, yp, 'b*',label=label)\n",
    "    plt.legend(loc=\"best\")"
   ]
  },
  {
   "cell_type": "code",
   "execution_count": 17,
   "metadata": {},
   "outputs": [],
   "source": [
    "def scores_train_test(clf, X_train, y_train, X_test, y_test, bins=50):\n",
    "    decisions = []\n",
    "    for X,y in ((X_train, y_train), (X_test, y_test)):\n",
    "        d1 = clf.decision_function(X[y>0.5]).ravel()\n",
    "        d2 = clf.decision_function(X[y<0.5]).ravel()\n",
    "        decisions += [d1, d2]\n",
    "        \n",
    "    low = min(np.min(d) for d in decisions)\n",
    "    high = max(np.max(d) for d in decisions)\n",
    "    low_high = (low,high)\n",
    "\n",
    "    fig, ax = plt.subplots(figsize=(10,8))\n",
    "    ax.hist(decisions[0],\n",
    "             color='r', alpha=0.5, range=low_high, bins=bins,\n",
    "             histtype='stepfilled', density=True,\n",
    "             label='signal (train)')\n",
    "    ax.hist(decisions[1],\n",
    "             color='b', alpha=0.5, range=low_high, bins=bins,\n",
    "             histtype='stepfilled', density=True,\n",
    "             label='background (train)')\n",
    "    hist, bins = np.histogram(decisions[2],\n",
    "                              bins=bins, range=low_high, density=True)\n",
    "    scale = len(decisions[2]) / sum(hist)\n",
    "    err = np.sqrt(hist * scale) / scale\n",
    "\n",
    "    width = (bins[1] - bins[0])\n",
    "    center = (bins[:-1] + bins[1:]) / 2\n",
    "    ax.errorbar(center, hist, yerr=err, fmt='o', c='r', label='signal (test)')\n",
    "\n",
    "    hist, bins = np.histogram(decisions[3],\n",
    "                              bins=bins, range=low_high, density=True)\n",
    "\n",
    "    scale = len(decisions[2]) / sum(hist)\n",
    "    err = np.sqrt(hist * scale) / scale\n",
    "\n",
    "    ax.errorbar(center, hist, yerr=err, fmt='o', c='b', label='background (test)')\n",
    "\n",
    "    # get the KS score\n",
    "    ks = stats.ks_2samp(decisions[0], decisions[2])\n",
    "    #ax.plot([], [], ' ', label='KS Statistic (p-value) :'+str(round(ks[0],2))+'('+str(round(ks[1],2))+')')\n",
    "    ax.axvline(-0.0027,ymin=0, ymax=1,\n",
    "             label='threshold = 0.0004',\n",
    "             linestyle='--',c='k')\n",
    "    ax.set_xlabel(\"BDT scores\")\n",
    "    ax.set_ylabel(\"Arbitrary units\")\n",
    "    ax.legend(loc='best')\n",
    "    plt.savefig('BDT_only_scores.png',bbox_inches='tight')"
   ]
  },
  {
   "cell_type": "code",
   "execution_count": 18,
   "metadata": {},
   "outputs": [],
   "source": [
    "#compare_train_test(bdt_SAMME_R,X_train,y_train,X_test,y_test)"
   ]
  },
  {
   "cell_type": "code",
   "execution_count": 22,
   "metadata": {},
   "outputs": [
    {
     "name": "stderr",
     "output_type": "stream",
     "text": [
      "findfont: Font family ['serif'] not found. Falling back to DejaVu Sans.\n"
     ]
    },
    {
     "data": {
      "image/png": "[encoded data removed]",
      "text/plain": [
       "<Figure size 720x576 with 1 Axes>"
      ]
     },
     "metadata": {
      "needs_background": "light"
     },
     "output_type": "display_data"
    }
   ],
   "source": [
    "scores_train_test(bdt_SAMME_R,X_train,y_train,X_test,y_test)"
   ]
  },
  {
   "cell_type": "markdown",
   "metadata": {},
   "source": [
    "thr = 0.0004"
   ]
  },
  {
   "cell_type": "code",
   "execution_count": 12,
   "metadata": {},
   "outputs": [],
   "source": [
    "blackbox = pd.read_csv('../notebooks/TablularDataUpdatedCode/combined_Blackbox3.csv', sep=',')"
   ]
  },
  {
   "cell_type": "code",
   "execution_count": 13,
   "metadata": {},
   "outputs": [
    {
     "data": {
      "text/plain": [
       "(1000000, 31)"
      ]
     },
     "execution_count": 13,
     "metadata": {},
     "output_type": "execute_result"
    }
   ],
   "source": [
    "blackbox.shape"
   ]
  },
  {
   "cell_type": "code",
   "execution_count": 14,
   "metadata": {},
   "outputs": [
    {
     "data": {
      "text/plain": [
       "Index(['pt_j1', 'm_j1', 'eta_j1', 'phi_j1', 'E_j1', 'pt_j2', 'm_j2', 'eta_j2',\n",
       "       'phi_j2', 'E_j2', 'deltaeta', 'deltaphi', 'mEratio1', 'mEratio2',\n",
       "       'm_jj', 'pt_asym', 'deltaR1_sj12', 'deltaR1_sj13', 'deltaR1_sj14',\n",
       "       'deltaR1_sj23', 'deltaR1_sj24', 'deltaR1_sj34', 'deltaR2_sj12',\n",
       "       'deltaR2_sj13', 'deltaR2_sj14', 'deltaR2_sj23', 'deltaR2_sj24',\n",
       "       'deltaR2_sj34', 'n_subjets1', 'n_subjets2', 'event_idx'],\n",
       "      dtype='object')"
      ]
     },
     "execution_count": 14,
     "metadata": {},
     "output_type": "execute_result"
    }
   ],
   "source": [
    "blackbox.keys()"
   ]
  },
  {
   "cell_type": "code",
   "execution_count": 15,
   "metadata": {},
   "outputs": [],
   "source": [
    "blackbox.drop(['event_idx'], axis=1, inplace=True)"
   ]
  },
  {
   "cell_type": "code",
   "execution_count": 16,
   "metadata": {},
   "outputs": [],
   "source": [
    "decisions_bb = bdt_SAMME_R.decision_function(blackbox)"
   ]
  },
  {
   "cell_type": "code",
   "execution_count": 17,
   "metadata": {},
   "outputs": [
    {
     "data": {
      "text/plain": [
       "(1000000,)"
      ]
     },
     "execution_count": 17,
     "metadata": {},
     "output_type": "execute_result"
    }
   ],
   "source": [
    "decisions_bb.shape"
   ]
  },
  {
   "cell_type": "code",
   "execution_count": 18,
   "metadata": {},
   "outputs": [
    {
     "data": {
      "image/png": "[encoded data removed]",
      "text/plain": [
       "<Figure size 432x288 with 1 Axes>"
      ]
     },
     "metadata": {
      "needs_background": "light"
     },
     "output_type": "display_data"
    }
   ],
   "source": [
    "density_sig = gaussian_kde(decisions_bb[decisions_bb > 0.0004])\n",
    "density_bg = gaussian_kde(decisions_bb[decisions_bb < 0.0004])\n",
    "xs_sig = np.linspace(min(decisions_bb[decisions_bb > 0.0004]),\n",
    "                     max(decisions_bb[decisions_bb > 0.0004]),200)\n",
    "xs_bg = np.linspace(min(decisions_bb[decisions_bb < 0.0004]),\n",
    "                    max(decisions_bb[decisions_bb < 0.0004]), 200)\n",
    "\n",
    "density_sig.covariance_factor = lambda : .25\n",
    "density_sig._compute_covariance()\n",
    "density_bg.covariance_factor = lambda : .25\n",
    "density_bg._compute_covariance()\n",
    "plt.plot(xs_sig,density_sig(xs_sig),label='signal')\n",
    "plt.plot(xs_bg,density_bg(xs_bg),label='background')\n",
    "plt.legend()\n",
    "plt.show()"
   ]
  },
  {
   "cell_type": "code",
   "execution_count": 19,
   "metadata": {},
   "outputs": [],
   "source": [
    "pValue = stats.ks_2samp(density_bg(xs_bg),density_sig(xs_sig))"
   ]
  },
  {
   "cell_type": "code",
   "execution_count": 20,
   "metadata": {},
   "outputs": [
    {
     "data": {
      "text/plain": [
       "Ks_2sampResult(statistic=0.255, pvalue=4.024806511439489e-06)"
      ]
     },
     "execution_count": 20,
     "metadata": {},
     "output_type": "execute_result"
    }
   ],
   "source": [
    "pValue"
   ]
  },
  {
   "cell_type": "code",
   "execution_count": null,
   "metadata": {},
   "outputs": [],
   "source": [
    "xs_sig2 = np.linspace(min(decisions_bb),\n",
    "                     max(decisions_bb),200)\n",
    "xs_bg2 = np.linspace(min(decisions_bb),\n",
    "                    max(decisions_bb), 200)\n",
    "\n",
    "\n",
    "density_sig.covariance_factor = lambda : .25\n",
    "density_sig._compute_covariance()\n",
    "density_bg.covariance_factor = lambda : .25\n",
    "density_bg._compute_covariance()\n",
    "plt.plot(xs_sig,density_sig(xs_sig2),label='signal')\n",
    "plt.plot(xs_bg,density_bg(xs_bg2),label='background')\n",
    "plt.legend()\n",
    "plt.show()"
   ]
  },
  {
   "cell_type": "code",
   "execution_count": null,
   "metadata": {},
   "outputs": [],
   "source": [
    "stats.ks_2samp(density_bg(xs_bg2),density_sig(xs_sig2))"
   ]
  },
  {
   "cell_type": "code",
   "execution_count": null,
   "metadata": {},
   "outputs": [],
   "source": []
  },
  {
   "cell_type": "markdown",
   "metadata": {},
   "source": [
    "## Export the selected threshold data"
   ]
  },
  {
   "cell_type": "code",
   "execution_count": 21,
   "metadata": {},
   "outputs": [
    {
     "data": {
      "text/plain": [
       "58276"
      ]
     },
     "execution_count": 21,
     "metadata": {},
     "output_type": "execute_result"
    }
   ],
   "source": [
    "len(decisions_bb[decisions_bb >  0.004])"
   ]
  },
  {
   "cell_type": "code",
   "execution_count": 30,
   "metadata": {},
   "outputs": [],
   "source": [
    "threshold =  0.04"
   ]
  },
  {
   "cell_type": "markdown",
   "metadata": {},
   "source": [
    "- The index in the decisions_bb and blackbox dataframe are the same, so I can mask the blackobox dataframe with these indexes and export the data we want."
   ]
  },
  {
   "cell_type": "code",
   "execution_count": 31,
   "metadata": {},
   "outputs": [],
   "source": [
    "#select the indexes we want for an given threshold:\n",
    "select_signal_idx = np.where(decisions_bb > threshold)[0]\n",
    "select_bg_idx = np.where(decisions_bb < threshold)[0]"
   ]
  },
  {
   "cell_type": "code",
   "execution_count": 32,
   "metadata": {},
   "outputs": [],
   "source": [
    "# using the indexes to mask the dataframe:\n",
    "df_sig_selceted = blackbox.loc[select_signal_idx]\n",
    "df_bg_selected = blackbox.loc[select_bg_idx]"
   ]
  },
  {
   "cell_type": "code",
   "execution_count": 33,
   "metadata": {},
   "outputs": [
    {
     "data": {
      "text/html": [
       "<div>\n",
       "<style scoped>\n",
       "    .dataframe tbody tr th:only-of-type {\n",
       "        vertical-align: middle;\n",
       "    }\n",
       "\n",
       "    .dataframe tbody tr th {\n",
       "        vertical-align: top;\n",
       "    }\n",
       "\n",
       "    .dataframe thead th {\n",
       "        text-align: right;\n",
       "    }\n",
       "</style>\n",
       "<table border=\"1\" class=\"dataframe\">\n",
       "  <thead>\n",
       "    <tr style=\"text-align: right;\">\n",
       "      <th></th>\n",
       "      <th>pt_j1</th>\n",
       "      <th>m_j1</th>\n",
       "      <th>eta_j1</th>\n",
       "      <th>phi_j1</th>\n",
       "      <th>E_j1</th>\n",
       "      <th>pt_j2</th>\n",
       "      <th>m_j2</th>\n",
       "      <th>eta_j2</th>\n",
       "      <th>phi_j2</th>\n",
       "      <th>E_j2</th>\n",
       "      <th>...</th>\n",
       "      <th>deltaR1_sj24</th>\n",
       "      <th>deltaR1_sj34</th>\n",
       "      <th>deltaR2_sj12</th>\n",
       "      <th>deltaR2_sj13</th>\n",
       "      <th>deltaR2_sj14</th>\n",
       "      <th>deltaR2_sj23</th>\n",
       "      <th>deltaR2_sj24</th>\n",
       "      <th>deltaR2_sj34</th>\n",
       "      <th>n_subjets1</th>\n",
       "      <th>n_subjets2</th>\n",
       "    </tr>\n",
       "  </thead>\n",
       "  <tbody>\n",
       "    <tr>\n",
       "      <th>384</th>\n",
       "      <td>1344.196307</td>\n",
       "      <td>100.258403</td>\n",
       "      <td>-0.742778</td>\n",
       "      <td>-2.378998</td>\n",
       "      <td>1735.269754</td>\n",
       "      <td>1298.826614</td>\n",
       "      <td>510.904603</td>\n",
       "      <td>0.596752</td>\n",
       "      <td>0.612656</td>\n",
       "      <td>1619.723366</td>\n",
       "      <td>...</td>\n",
       "      <td>0.000000</td>\n",
       "      <td>0.000000</td>\n",
       "      <td>0.964577</td>\n",
       "      <td>0.680606</td>\n",
       "      <td>0.680606</td>\n",
       "      <td>1.580849</td>\n",
       "      <td>1.580849</td>\n",
       "      <td>0.0</td>\n",
       "      <td>1</td>\n",
       "      <td>2</td>\n",
       "    </tr>\n",
       "    <tr>\n",
       "      <th>424</th>\n",
       "      <td>1750.053592</td>\n",
       "      <td>120.822496</td>\n",
       "      <td>0.563091</td>\n",
       "      <td>1.003319</td>\n",
       "      <td>2038.492450</td>\n",
       "      <td>1628.687969</td>\n",
       "      <td>481.850875</td>\n",
       "      <td>-0.272357</td>\n",
       "      <td>-2.212616</td>\n",
       "      <td>1756.839881</td>\n",
       "      <td>...</td>\n",
       "      <td>0.000000</td>\n",
       "      <td>0.000000</td>\n",
       "      <td>0.644104</td>\n",
       "      <td>2.143872</td>\n",
       "      <td>2.143872</td>\n",
       "      <td>2.502737</td>\n",
       "      <td>2.502737</td>\n",
       "      <td>0.0</td>\n",
       "      <td>1</td>\n",
       "      <td>2</td>\n",
       "    </tr>\n",
       "    <tr>\n",
       "      <th>534</th>\n",
       "      <td>1731.682655</td>\n",
       "      <td>462.168597</td>\n",
       "      <td>0.353116</td>\n",
       "      <td>-2.997413</td>\n",
       "      <td>1897.903993</td>\n",
       "      <td>1630.124180</td>\n",
       "      <td>159.308842</td>\n",
       "      <td>0.581111</td>\n",
       "      <td>0.121001</td>\n",
       "      <td>1919.817224</td>\n",
       "      <td>...</td>\n",
       "      <td>3.100877</td>\n",
       "      <td>0.000000</td>\n",
       "      <td>0.584557</td>\n",
       "      <td>0.584557</td>\n",
       "      <td>0.584557</td>\n",
       "      <td>0.000000</td>\n",
       "      <td>0.000000</td>\n",
       "      <td>0.0</td>\n",
       "      <td>2</td>\n",
       "      <td>1</td>\n",
       "    </tr>\n",
       "    <tr>\n",
       "      <th>574</th>\n",
       "      <td>1257.536292</td>\n",
       "      <td>115.657443</td>\n",
       "      <td>-0.151569</td>\n",
       "      <td>-1.739767</td>\n",
       "      <td>1277.256014</td>\n",
       "      <td>1164.196272</td>\n",
       "      <td>462.566852</td>\n",
       "      <td>1.797524</td>\n",
       "      <td>1.545537</td>\n",
       "      <td>3638.761380</td>\n",
       "      <td>...</td>\n",
       "      <td>0.000000</td>\n",
       "      <td>0.000000</td>\n",
       "      <td>0.784317</td>\n",
       "      <td>2.565961</td>\n",
       "      <td>2.565961</td>\n",
       "      <td>1.866619</td>\n",
       "      <td>1.866619</td>\n",
       "      <td>0.0</td>\n",
       "      <td>1</td>\n",
       "      <td>2</td>\n",
       "    </tr>\n",
       "    <tr>\n",
       "      <th>734</th>\n",
       "      <td>1223.031381</td>\n",
       "      <td>482.527297</td>\n",
       "      <td>1.425202</td>\n",
       "      <td>-1.324367</td>\n",
       "      <td>2733.085678</td>\n",
       "      <td>1209.768212</td>\n",
       "      <td>466.903745</td>\n",
       "      <td>-0.218110</td>\n",
       "      <td>1.821545</td>\n",
       "      <td>1323.734291</td>\n",
       "      <td>...</td>\n",
       "      <td>2.378453</td>\n",
       "      <td>1.423042</td>\n",
       "      <td>0.741420</td>\n",
       "      <td>2.051077</td>\n",
       "      <td>2.051077</td>\n",
       "      <td>1.370213</td>\n",
       "      <td>1.370213</td>\n",
       "      <td>0.0</td>\n",
       "      <td>3</td>\n",
       "      <td>2</td>\n",
       "    </tr>\n",
       "  </tbody>\n",
       "</table>\n",
       "<p>5 rows × 30 columns</p>\n",
       "</div>"
      ],
      "text/plain": [
       "           pt_j1        m_j1    eta_j1    phi_j1         E_j1        pt_j2  \\\n",
       "384  1344.196307  100.258403 -0.742778 -2.378998  1735.269754  1298.826614   \n",
       "424  1750.053592  120.822496  0.563091  1.003319  2038.492450  1628.687969   \n",
       "534  1731.682655  462.168597  0.353116 -2.997413  1897.903993  1630.124180   \n",
       "574  1257.536292  115.657443 -0.151569 -1.739767  1277.256014  1164.196272   \n",
       "734  1223.031381  482.527297  1.425202 -1.324367  2733.085678  1209.768212   \n",
       "\n",
       "           m_j2    eta_j2    phi_j2         E_j2  ...  deltaR1_sj24  \\\n",
       "384  510.904603  0.596752  0.612656  1619.723366  ...      0.000000   \n",
       "424  481.850875 -0.272357 -2.212616  1756.839881  ...      0.000000   \n",
       "534  159.308842  0.581111  0.121001  1919.817224  ...      3.100877   \n",
       "574  462.566852  1.797524  1.545537  3638.761380  ...      0.000000   \n",
       "734  466.903745 -0.218110  1.821545  1323.734291  ...      2.378453   \n",
       "\n",
       "     deltaR1_sj34  deltaR2_sj12  deltaR2_sj13  deltaR2_sj14  deltaR2_sj23  \\\n",
       "384      0.000000      0.964577      0.680606      0.680606      1.580849   \n",
       "424      0.000000      0.644104      2.143872      2.143872      2.502737   \n",
       "534      0.000000      0.584557      0.584557      0.584557      0.000000   \n",
       "574      0.000000      0.784317      2.565961      2.565961      1.866619   \n",
       "734      1.423042      0.741420      2.051077      2.051077      1.370213   \n",
       "\n",
       "     deltaR2_sj24  deltaR2_sj34  n_subjets1  n_subjets2  \n",
       "384      1.580849           0.0           1           2  \n",
       "424      2.502737           0.0           1           2  \n",
       "534      0.000000           0.0           2           1  \n",
       "574      1.866619           0.0           1           2  \n",
       "734      1.370213           0.0           3           2  \n",
       "\n",
       "[5 rows x 30 columns]"
      ]
     },
     "execution_count": 33,
     "metadata": {},
     "output_type": "execute_result"
    }
   ],
   "source": [
    "df_sig_selceted.head()"
   ]
  },
  {
   "cell_type": "code",
   "execution_count": 34,
   "metadata": {},
   "outputs": [
    {
     "data": {
      "text/html": [
       "<div>\n",
       "<style scoped>\n",
       "    .dataframe tbody tr th:only-of-type {\n",
       "        vertical-align: middle;\n",
       "    }\n",
       "\n",
       "    .dataframe tbody tr th {\n",
       "        vertical-align: top;\n",
       "    }\n",
       "\n",
       "    .dataframe thead th {\n",
       "        text-align: right;\n",
       "    }\n",
       "</style>\n",
       "<table border=\"1\" class=\"dataframe\">\n",
       "  <thead>\n",
       "    <tr style=\"text-align: right;\">\n",
       "      <th></th>\n",
       "      <th>pt_j1</th>\n",
       "      <th>m_j1</th>\n",
       "      <th>eta_j1</th>\n",
       "      <th>phi_j1</th>\n",
       "      <th>E_j1</th>\n",
       "      <th>pt_j2</th>\n",
       "      <th>m_j2</th>\n",
       "      <th>eta_j2</th>\n",
       "      <th>phi_j2</th>\n",
       "      <th>E_j2</th>\n",
       "      <th>...</th>\n",
       "      <th>deltaR1_sj24</th>\n",
       "      <th>deltaR1_sj34</th>\n",
       "      <th>deltaR2_sj12</th>\n",
       "      <th>deltaR2_sj13</th>\n",
       "      <th>deltaR2_sj14</th>\n",
       "      <th>deltaR2_sj23</th>\n",
       "      <th>deltaR2_sj24</th>\n",
       "      <th>deltaR2_sj34</th>\n",
       "      <th>n_subjets1</th>\n",
       "      <th>n_subjets2</th>\n",
       "    </tr>\n",
       "  </thead>\n",
       "  <tbody>\n",
       "    <tr>\n",
       "      <th>0</th>\n",
       "      <td>1620.333864</td>\n",
       "      <td>685.115973</td>\n",
       "      <td>-0.174478</td>\n",
       "      <td>-1.614655</td>\n",
       "      <td>1782.023078</td>\n",
       "      <td>1585.701346</td>\n",
       "      <td>134.002458</td>\n",
       "      <td>1.312144</td>\n",
       "      <td>1.548500</td>\n",
       "      <td>3161.059175</td>\n",
       "      <td>...</td>\n",
       "      <td>0.878934</td>\n",
       "      <td>1.417791</td>\n",
       "      <td>2.032764</td>\n",
       "      <td>2.032764</td>\n",
       "      <td>2.032764</td>\n",
       "      <td>0.000000</td>\n",
       "      <td>0.000000</td>\n",
       "      <td>0.000000</td>\n",
       "      <td>5</td>\n",
       "      <td>1</td>\n",
       "    </tr>\n",
       "    <tr>\n",
       "      <th>1</th>\n",
       "      <td>1360.556699</td>\n",
       "      <td>561.077186</td>\n",
       "      <td>0.517355</td>\n",
       "      <td>-1.318315</td>\n",
       "      <td>1645.356355</td>\n",
       "      <td>1329.648922</td>\n",
       "      <td>171.592563</td>\n",
       "      <td>0.379208</td>\n",
       "      <td>1.834474</td>\n",
       "      <td>1436.684733</td>\n",
       "      <td>...</td>\n",
       "      <td>1.393768</td>\n",
       "      <td>0.870271</td>\n",
       "      <td>1.880787</td>\n",
       "      <td>1.880787</td>\n",
       "      <td>1.880787</td>\n",
       "      <td>0.000000</td>\n",
       "      <td>0.000000</td>\n",
       "      <td>0.000000</td>\n",
       "      <td>3</td>\n",
       "      <td>1</td>\n",
       "    </tr>\n",
       "    <tr>\n",
       "      <th>2</th>\n",
       "      <td>1386.828215</td>\n",
       "      <td>307.755761</td>\n",
       "      <td>0.262895</td>\n",
       "      <td>2.057175</td>\n",
       "      <td>1467.659061</td>\n",
       "      <td>1270.418039</td>\n",
       "      <td>287.348589</td>\n",
       "      <td>-0.768561</td>\n",
       "      <td>-1.364765</td>\n",
       "      <td>1689.085517</td>\n",
       "      <td>...</td>\n",
       "      <td>1.625738</td>\n",
       "      <td>0.000000</td>\n",
       "      <td>0.583448</td>\n",
       "      <td>0.766499</td>\n",
       "      <td>1.571579</td>\n",
       "      <td>0.715270</td>\n",
       "      <td>1.380219</td>\n",
       "      <td>2.087638</td>\n",
       "      <td>2</td>\n",
       "      <td>3</td>\n",
       "    </tr>\n",
       "    <tr>\n",
       "      <th>3</th>\n",
       "      <td>1273.796306</td>\n",
       "      <td>48.893264</td>\n",
       "      <td>0.724323</td>\n",
       "      <td>2.511642</td>\n",
       "      <td>1623.543917</td>\n",
       "      <td>1241.645039</td>\n",
       "      <td>212.022430</td>\n",
       "      <td>-0.539519</td>\n",
       "      <td>-0.629352</td>\n",
       "      <td>1442.448262</td>\n",
       "      <td>...</td>\n",
       "      <td>0.000000</td>\n",
       "      <td>0.000000</td>\n",
       "      <td>0.735084</td>\n",
       "      <td>0.848101</td>\n",
       "      <td>0.848101</td>\n",
       "      <td>0.546064</td>\n",
       "      <td>0.546064</td>\n",
       "      <td>0.000000</td>\n",
       "      <td>1</td>\n",
       "      <td>2</td>\n",
       "    </tr>\n",
       "    <tr>\n",
       "      <th>4</th>\n",
       "      <td>1437.517476</td>\n",
       "      <td>174.676116</td>\n",
       "      <td>-0.312343</td>\n",
       "      <td>1.842724</td>\n",
       "      <td>1518.291486</td>\n",
       "      <td>1421.652283</td>\n",
       "      <td>185.871476</td>\n",
       "      <td>-1.219979</td>\n",
       "      <td>-1.346753</td>\n",
       "      <td>2624.104551</td>\n",
       "      <td>...</td>\n",
       "      <td>0.000000</td>\n",
       "      <td>0.000000</td>\n",
       "      <td>1.817343</td>\n",
       "      <td>1.817343</td>\n",
       "      <td>1.817343</td>\n",
       "      <td>0.000000</td>\n",
       "      <td>0.000000</td>\n",
       "      <td>0.000000</td>\n",
       "      <td>1</td>\n",
       "      <td>1</td>\n",
       "    </tr>\n",
       "  </tbody>\n",
       "</table>\n",
       "<p>5 rows × 30 columns</p>\n",
       "</div>"
      ],
      "text/plain": [
       "         pt_j1        m_j1    eta_j1    phi_j1         E_j1        pt_j2  \\\n",
       "0  1620.333864  685.115973 -0.174478 -1.614655  1782.023078  1585.701346   \n",
       "1  1360.556699  561.077186  0.517355 -1.318315  1645.356355  1329.648922   \n",
       "2  1386.828215  307.755761  0.262895  2.057175  1467.659061  1270.418039   \n",
       "3  1273.796306   48.893264  0.724323  2.511642  1623.543917  1241.645039   \n",
       "4  1437.517476  174.676116 -0.312343  1.842724  1518.291486  1421.652283   \n",
       "\n",
       "         m_j2    eta_j2    phi_j2         E_j2  ...  deltaR1_sj24  \\\n",
       "0  134.002458  1.312144  1.548500  3161.059175  ...      0.878934   \n",
       "1  171.592563  0.379208  1.834474  1436.684733  ...      1.393768   \n",
       "2  287.348589 -0.768561 -1.364765  1689.085517  ...      1.625738   \n",
       "3  212.022430 -0.539519 -0.629352  1442.448262  ...      0.000000   \n",
       "4  185.871476 -1.219979 -1.346753  2624.104551  ...      0.000000   \n",
       "\n",
       "   deltaR1_sj34  deltaR2_sj12  deltaR2_sj13  deltaR2_sj14  deltaR2_sj23  \\\n",
       "0      1.417791      2.032764      2.032764      2.032764      0.000000   \n",
       "1      0.870271      1.880787      1.880787      1.880787      0.000000   \n",
       "2      0.000000      0.583448      0.766499      1.571579      0.715270   \n",
       "3      0.000000      0.735084      0.848101      0.848101      0.546064   \n",
       "4      0.000000      1.817343      1.817343      1.817343      0.000000   \n",
       "\n",
       "   deltaR2_sj24  deltaR2_sj34  n_subjets1  n_subjets2  \n",
       "0      0.000000      0.000000           5           1  \n",
       "1      0.000000      0.000000           3           1  \n",
       "2      1.380219      2.087638           2           3  \n",
       "3      0.546064      0.000000           1           2  \n",
       "4      0.000000      0.000000           1           1  \n",
       "\n",
       "[5 rows x 30 columns]"
      ]
     },
     "execution_count": 34,
     "metadata": {},
     "output_type": "execute_result"
    }
   ],
   "source": [
    "df_bg_selected.head()"
   ]
  },
  {
   "cell_type": "code",
   "execution_count": 35,
   "metadata": {},
   "outputs": [
    {
     "data": {
      "text/plain": [
       "((992225, 30), (7775, 30))"
      ]
     },
     "execution_count": 35,
     "metadata": {},
     "output_type": "execute_result"
    }
   ],
   "source": [
    "#check the lenght and if the shapes match with the original dataframe:\n",
    "df_bg_selected.shape, df_sig_selceted.shape"
   ]
  },
  {
   "cell_type": "code",
   "execution_count": 36,
   "metadata": {},
   "outputs": [
    {
     "data": {
      "text/plain": [
       "True"
      ]
     },
     "execution_count": 36,
     "metadata": {},
     "output_type": "execute_result"
    }
   ],
   "source": [
    "df_bg_selected.shape[0] + df_sig_selceted.shape[0] == blackbox.shape[0]"
   ]
  },
  {
   "cell_type": "code",
   "execution_count": 37,
   "metadata": {},
   "outputs": [],
   "source": [
    "# export the selected data to csv:\n",
    "#df_sig_selceted.to_csv('../selected data csv BL3/signal/selected_signal_thr_0d04.csv', sep=',')\n",
    "#df_bg_selected.to_csv('../selected data csv BL3/background/selected_background_thr_0d04.csv', sep=',')"
   ]
  },
  {
   "cell_type": "code",
   "execution_count": 41,
   "metadata": {},
   "outputs": [
    {
     "data": {
      "text/plain": [
       "count    359690.000000\n",
       "mean        101.135451\n",
       "std          27.589875\n",
       "min          50.001051\n",
       "25%          78.202955\n",
       "50%         101.080212\n",
       "75%         124.434239\n",
       "max         149.999839\n",
       "Name: m_j1, dtype: float64"
      ]
     },
     "execution_count": 41,
     "metadata": {},
     "output_type": "execute_result"
    }
   ],
   "source": [
    "blackbox[(blackbox['m_j1'] > 50.) & (blackbox['m_j1'] < 150.)].m_j1.describe()"
   ]
  },
  {
   "cell_type": "code",
   "execution_count": 42,
   "metadata": {},
   "outputs": [
    {
     "data": {
      "text/plain": [
       "count    3021.000000\n",
       "mean      112.927662\n",
       "std        14.611070\n",
       "min        73.523839\n",
       "25%       102.127862\n",
       "50%       111.563898\n",
       "75%       122.553776\n",
       "max       149.920184\n",
       "Name: m_j1, dtype: float64"
      ]
     },
     "execution_count": 42,
     "metadata": {},
     "output_type": "execute_result"
    }
   ],
   "source": [
    "df_sig_selceted[(df_sig_selceted['m_j1'] > 50.) & (df_sig_selceted['m_j1'] < 150.)].m_j1.describe()"
   ]
  },
  {
   "cell_type": "code",
   "execution_count": 43,
   "metadata": {},
   "outputs": [
    {
     "data": {
      "text/plain": [
       "3021"
      ]
     },
     "execution_count": 43,
     "metadata": {},
     "output_type": "execute_result"
    }
   ],
   "source": [
    "len(df_sig_selceted[(df_sig_selceted['m_j1'] > 50.) & (df_sig_selceted['m_j1'] < 150.)])"
   ]
  },
  {
   "cell_type": "code",
   "execution_count": null,
   "metadata": {},
   "outputs": [],
   "source": []
  }
 ],
 "metadata": {
  "kernelspec": {
   "display_name": "Scikit-HEP",
   "language": "python",
   "name": "scikit-hep"
  },
  "language_info": {
   "codemirror_mode": {
    "name": "ipython",
    "version": 3
   },
   "file_extension": ".py",
   "mimetype": "text/x-python",
   "name": "python",
   "nbconvert_exporter": "python",
   "pygments_lexer": "ipython3",
   "version": "3.6.7"
  }
 },
 "nbformat": 4,
 "nbformat_minor": 4
}
