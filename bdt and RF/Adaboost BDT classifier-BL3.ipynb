{
 "cells": [
  {
   "cell_type": "code",
   "execution_count": 1,
   "metadata": {},
   "outputs": [],
   "source": [
    "%matplotlib inline\n",
    "import numpy as np\n",
    "import glob\n",
    "import pandas as pd\n",
    "import matplotlib\n",
    "import matplotlib.pyplot as plt\n",
    "import random\n",
    "import os\n",
    "from sklearn.preprocessing import label_binarize\n",
    "from sklearn.tree import DecisionTreeClassifier\n",
    "from sklearn.ensemble import AdaBoostClassifier\n",
    "from sklearn.model_selection import train_test_split\n",
    "from sklearn.preprocessing import StandardScaler\n",
    "from sklearn.model_selection import StratifiedKFold\n",
    "import pickle"
   ]
  },
  {
   "cell_type": "code",
   "execution_count": 2,
   "metadata": {},
   "outputs": [],
   "source": [
    "from sklearn import preprocessing\n",
    "scale = StandardScaler()\n",
    "min_max_scaler = preprocessing.MinMaxScaler()\n",
    "def scaleColumns(df, cols_to_scale):\n",
    "    for col in cols_to_scale:\n",
    "        df[col] = pd.DataFrame(min_max_scaler.fit_transform(pd.DataFrame(df[col])),columns=[col])\n",
    "    return df"
   ]
  },
  {
   "cell_type": "code",
   "execution_count": 3,
   "metadata": {},
   "outputs": [],
   "source": [
    "signal = pd.read_csv('process_data/signal_pred.csv',sep=',')\n",
    "background = pd.read_csv('process_data/background_pred.csv',sep=',')"
   ]
  },
  {
   "cell_type": "code",
   "execution_count": 4,
   "metadata": {},
   "outputs": [],
   "source": [
    "signal['signal'] = 1\n",
    "background['signal'] = 0"
   ]
  },
  {
   "cell_type": "code",
   "execution_count": 5,
   "metadata": {},
   "outputs": [],
   "source": [
    "analysis = pd.concat([signal, background], ignore_index=True)"
   ]
  },
  {
   "cell_type": "code",
   "execution_count": 6,
   "metadata": {},
   "outputs": [
    {
     "data": {
      "text/html": [
       "<div>\n",
       "<style scoped>\n",
       "    .dataframe tbody tr th:only-of-type {\n",
       "        vertical-align: middle;\n",
       "    }\n",
       "\n",
       "    .dataframe tbody tr th {\n",
       "        vertical-align: top;\n",
       "    }\n",
       "\n",
       "    .dataframe thead th {\n",
       "        text-align: right;\n",
       "    }\n",
       "</style>\n",
       "<table border=\"1\" class=\"dataframe\">\n",
       "  <thead>\n",
       "    <tr style=\"text-align: right;\">\n",
       "      <th></th>\n",
       "      <th>Unnamed: 0</th>\n",
       "      <th>pt_j1</th>\n",
       "      <th>m_j1</th>\n",
       "      <th>eta_j1</th>\n",
       "      <th>phi_j1</th>\n",
       "      <th>E_j1</th>\n",
       "      <th>pt_j2</th>\n",
       "      <th>m_j2</th>\n",
       "      <th>eta_j2</th>\n",
       "      <th>phi_j2</th>\n",
       "      <th>...</th>\n",
       "      <th>deltaR2_sj23</th>\n",
       "      <th>deltaR2_sj24</th>\n",
       "      <th>deltaR2_sj34</th>\n",
       "      <th>n_subjets1</th>\n",
       "      <th>n_subjets2</th>\n",
       "      <th>event_idx</th>\n",
       "      <th>img_name</th>\n",
       "      <th>P_BG</th>\n",
       "      <th>P_SIG</th>\n",
       "      <th>signal</th>\n",
       "    </tr>\n",
       "  </thead>\n",
       "  <tbody>\n",
       "    <tr>\n",
       "      <th>0</th>\n",
       "      <td>0</td>\n",
       "      <td>1210.415787</td>\n",
       "      <td>129.499352</td>\n",
       "      <td>-0.744836</td>\n",
       "      <td>-2.883347</td>\n",
       "      <td>1567.345300</td>\n",
       "      <td>1091.785816</td>\n",
       "      <td>155.362262</td>\n",
       "      <td>1.060534</td>\n",
       "      <td>0.264977</td>\n",
       "      <td>...</td>\n",
       "      <td>0.000000</td>\n",
       "      <td>0.000000</td>\n",
       "      <td>0.00000</td>\n",
       "      <td>1</td>\n",
       "      <td>1</td>\n",
       "      <td>4</td>\n",
       "      <td>4.png</td>\n",
       "      <td>0.378957</td>\n",
       "      <td>0.621043</td>\n",
       "      <td>1</td>\n",
       "    </tr>\n",
       "    <tr>\n",
       "      <th>1</th>\n",
       "      <td>1</td>\n",
       "      <td>1787.625573</td>\n",
       "      <td>99.168898</td>\n",
       "      <td>-0.934612</td>\n",
       "      <td>1.185407</td>\n",
       "      <td>2628.753873</td>\n",
       "      <td>1717.649940</td>\n",
       "      <td>515.054419</td>\n",
       "      <td>-1.044915</td>\n",
       "      <td>-1.955165</td>\n",
       "      <td>...</td>\n",
       "      <td>2.512072</td>\n",
       "      <td>2.512072</td>\n",
       "      <td>0.00000</td>\n",
       "      <td>1</td>\n",
       "      <td>2</td>\n",
       "      <td>8</td>\n",
       "      <td>8.png</td>\n",
       "      <td>0.027786</td>\n",
       "      <td>0.972214</td>\n",
       "      <td>1</td>\n",
       "    </tr>\n",
       "    <tr>\n",
       "      <th>2</th>\n",
       "      <td>2</td>\n",
       "      <td>1368.776255</td>\n",
       "      <td>104.840764</td>\n",
       "      <td>-1.136360</td>\n",
       "      <td>1.353935</td>\n",
       "      <td>2354.162865</td>\n",
       "      <td>1283.549433</td>\n",
       "      <td>452.024576</td>\n",
       "      <td>0.053019</td>\n",
       "      <td>-1.781479</td>\n",
       "      <td>...</td>\n",
       "      <td>1.015464</td>\n",
       "      <td>1.926491</td>\n",
       "      <td>2.05649</td>\n",
       "      <td>1</td>\n",
       "      <td>3</td>\n",
       "      <td>19</td>\n",
       "      <td>19.png</td>\n",
       "      <td>0.288431</td>\n",
       "      <td>0.711569</td>\n",
       "      <td>1</td>\n",
       "    </tr>\n",
       "    <tr>\n",
       "      <th>3</th>\n",
       "      <td>3</td>\n",
       "      <td>1659.355146</td>\n",
       "      <td>110.390275</td>\n",
       "      <td>-0.348487</td>\n",
       "      <td>2.475010</td>\n",
       "      <td>1764.594154</td>\n",
       "      <td>1634.435917</td>\n",
       "      <td>487.949083</td>\n",
       "      <td>0.102619</td>\n",
       "      <td>-0.649581</td>\n",
       "      <td>...</td>\n",
       "      <td>0.452664</td>\n",
       "      <td>0.452664</td>\n",
       "      <td>0.00000</td>\n",
       "      <td>1</td>\n",
       "      <td>2</td>\n",
       "      <td>24</td>\n",
       "      <td>24.png</td>\n",
       "      <td>0.093520</td>\n",
       "      <td>0.906480</td>\n",
       "      <td>1</td>\n",
       "    </tr>\n",
       "    <tr>\n",
       "      <th>4</th>\n",
       "      <td>4</td>\n",
       "      <td>1827.270115</td>\n",
       "      <td>551.510487</td>\n",
       "      <td>0.208524</td>\n",
       "      <td>-0.979991</td>\n",
       "      <td>1946.889764</td>\n",
       "      <td>1799.302155</td>\n",
       "      <td>108.942106</td>\n",
       "      <td>-0.452693</td>\n",
       "      <td>2.177153</td>\n",
       "      <td>...</td>\n",
       "      <td>0.000000</td>\n",
       "      <td>0.000000</td>\n",
       "      <td>0.00000</td>\n",
       "      <td>2</td>\n",
       "      <td>1</td>\n",
       "      <td>33</td>\n",
       "      <td>33.png</td>\n",
       "      <td>0.027147</td>\n",
       "      <td>0.972853</td>\n",
       "      <td>1</td>\n",
       "    </tr>\n",
       "  </tbody>\n",
       "</table>\n",
       "<p>5 rows × 36 columns</p>\n",
       "</div>"
      ],
      "text/plain": [
       "   Unnamed: 0        pt_j1        m_j1    eta_j1    phi_j1         E_j1  \\\n",
       "0           0  1210.415787  129.499352 -0.744836 -2.883347  1567.345300   \n",
       "1           1  1787.625573   99.168898 -0.934612  1.185407  2628.753873   \n",
       "2           2  1368.776255  104.840764 -1.136360  1.353935  2354.162865   \n",
       "3           3  1659.355146  110.390275 -0.348487  2.475010  1764.594154   \n",
       "4           4  1827.270115  551.510487  0.208524 -0.979991  1946.889764   \n",
       "\n",
       "         pt_j2        m_j2    eta_j2    phi_j2  ...  deltaR2_sj23  \\\n",
       "0  1091.785816  155.362262  1.060534  0.264977  ...      0.000000   \n",
       "1  1717.649940  515.054419 -1.044915 -1.955165  ...      2.512072   \n",
       "2  1283.549433  452.024576  0.053019 -1.781479  ...      1.015464   \n",
       "3  1634.435917  487.949083  0.102619 -0.649581  ...      0.452664   \n",
       "4  1799.302155  108.942106 -0.452693  2.177153  ...      0.000000   \n",
       "\n",
       "   deltaR2_sj24  deltaR2_sj34  n_subjets1  n_subjets2  event_idx  img_name  \\\n",
       "0      0.000000       0.00000           1           1          4     4.png   \n",
       "1      2.512072       0.00000           1           2          8     8.png   \n",
       "2      1.926491       2.05649           1           3         19    19.png   \n",
       "3      0.452664       0.00000           1           2         24    24.png   \n",
       "4      0.000000       0.00000           2           1         33    33.png   \n",
       "\n",
       "       P_BG     P_SIG  signal  \n",
       "0  0.378957  0.621043       1  \n",
       "1  0.027786  0.972214       1  \n",
       "2  0.288431  0.711569       1  \n",
       "3  0.093520  0.906480       1  \n",
       "4  0.027147  0.972853       1  \n",
       "\n",
       "[5 rows x 36 columns]"
      ]
     },
     "execution_count": 6,
     "metadata": {},
     "output_type": "execute_result"
    }
   ],
   "source": [
    "analysis.head()"
   ]
  },
  {
   "cell_type": "code",
   "execution_count": 7,
   "metadata": {},
   "outputs": [],
   "source": [
    "analysis.drop(['event_idx','img_name','Unnamed: 0', 'P_BG', 'P_SIG'], axis=1, inplace=True)"
   ]
  },
  {
   "cell_type": "code",
   "execution_count": 8,
   "metadata": {},
   "outputs": [],
   "source": [
    "#analysis = analysis[analysis.n_subjets2 != 0]"
   ]
  },
  {
   "cell_type": "code",
   "execution_count": 9,
   "metadata": {},
   "outputs": [
    {
     "data": {
      "image/png": "[encoded data removed]",
      "text/plain": [
       "<Figure size 864x576 with 2 Axes>"
      ]
     },
     "metadata": {
      "needs_background": "light"
     },
     "output_type": "display_data"
    }
   ],
   "source": [
    "# set up figure & axes\n",
    "fig, axes = plt.subplots(nrows=1, ncols=2, sharex=True, sharey=True, figsize=[12,8])\n",
    "\n",
    "# drop sharex, sharey, layout & add ax=axes\n",
    "analysis[analysis.signal == 1].hist(column='m_j1',bins=100, ax=axes[0],label='signal')\n",
    "analysis[analysis.signal == 0].hist(column='m_j1',bins=100, ax=axes[0],label='background')\n",
    "analysis[analysis.signal == 1].hist(column='m_j2',bins=100, ax=axes[1],label='signal')\n",
    "analysis[analysis.signal == 0].hist(column='m_j2',bins=100, ax=axes[1],label='background')\n",
    "# set title and axis labels\n",
    "#plt.suptitle('Your Title Here', x=0.5, y=1.05, ha='center', fontsize='xx-large')\n",
    "fig.text(0.5, 0.04, 'm(GeV)', ha='center')\n",
    "fig.text(0.04, 0.5, '# of events', va='center', rotation='vertical')\n",
    "axes[0].legend()\n",
    "axes[1].legend();"
   ]
  },
  {
   "cell_type": "code",
   "execution_count": 10,
   "metadata": {},
   "outputs": [],
   "source": [
    "X = analysis.drop(['signal'], axis=1)\n",
    "y = analysis['signal']\n",
    "X_train, X_test, y_train, y_test = train_test_split(X, y, train_size=0.8, test_size=0.2, random_state=42)"
   ]
  },
  {
   "cell_type": "markdown",
   "metadata": {},
   "source": [
    "Best individual is: {'n_estimators': 700, 'learning_rate': 0.1, 'algorithm': 'SAMME.R', 'base_estimator__max_depth': 3, 'base_estimator__criterion': 'entropy', 'base_estimator__splitter': 'random'} with fitness: 0.9538591277809011 Results Accuracy: 95.3859%"
   ]
  },
  {
   "cell_type": "code",
   "execution_count": 11,
   "metadata": {},
   "outputs": [],
   "source": [
    "bdt_SAME_R = AdaBoostClassifier(\n",
    "    DecisionTreeClassifier(max_depth=3, min_samples_leaf=1,random_state=42, splitter='random', criterion='entropy'),\n",
    "    n_estimators=700, learning_rate=0.1, random_state=42, algorithm='SAMME.R')"
   ]
  },
  {
   "cell_type": "code",
   "execution_count": 12,
   "metadata": {},
   "outputs": [
    {
     "data": {
      "text/plain": [
       "AdaBoostClassifier(algorithm='SAMME.R',\n",
       "                   base_estimator=DecisionTreeClassifier(ccp_alpha=0.0,\n",
       "                                                         class_weight=None,\n",
       "                                                         criterion='entropy',\n",
       "                                                         max_depth=3,\n",
       "                                                         max_features=None,\n",
       "                                                         max_leaf_nodes=None,\n",
       "                                                         min_impurity_decrease=0.0,\n",
       "                                                         min_impurity_split=None,\n",
       "                                                         min_samples_leaf=1,\n",
       "                                                         min_samples_split=2,\n",
       "                                                         min_weight_fraction_leaf=0.0,\n",
       "                                                         presort='deprecated',\n",
       "                                                         random_state=42,\n",
       "                                                         splitter='random'),\n",
       "                   learning_rate=0.1, n_estimators=700, random_state=42)"
      ]
     },
     "execution_count": 12,
     "metadata": {},
     "output_type": "execute_result"
    }
   ],
   "source": [
    "bdt_SAME_R.fit(X_train, y_train)"
   ]
  },
  {
   "cell_type": "code",
   "execution_count": 13,
   "metadata": {},
   "outputs": [],
   "source": [
    "pickle.dump(bdt_SAME_R, open('bdt_SAMME_R_BL3.sav', 'wb'))"
   ]
  },
  {
   "cell_type": "code",
   "execution_count": null,
   "metadata": {},
   "outputs": [],
   "source": [
    "from sklearn.metrics import precision_score, precision_recall_curve, average_precision_score,\\\n",
    "accuracy_score,roc_curve, auc, f1_score\n",
    "from sklearn.metrics import roc_auc_score\n",
    "from sklearn.preprocessing import label_binarize\n",
    "from itertools import cycle\n",
    "from scipy import interp\n",
    "import matplotlib.colors as mcolors\n",
    "from sklearn.preprocessing import OneHotEncoder"
   ]
  },
  {
   "cell_type": "code",
   "execution_count": null,
   "metadata": {},
   "outputs": [],
   "source": [
    "bdt_SAME_R.classes_"
   ]
  },
  {
   "cell_type": "code",
   "execution_count": null,
   "metadata": {},
   "outputs": [],
   "source": [
    "enc = OneHotEncoder(handle_unknown='ignore')"
   ]
  },
  {
   "cell_type": "code",
   "execution_count": null,
   "metadata": {},
   "outputs": [],
   "source": [
    "y_val = label_binarize(y_test, classes=[0,1])"
   ]
  },
  {
   "cell_type": "code",
   "execution_count": null,
   "metadata": {},
   "outputs": [],
   "source": [
    "y_val = enc.fit_transform(y_val).toarray()"
   ]
  },
  {
   "cell_type": "code",
   "execution_count": null,
   "metadata": {},
   "outputs": [],
   "source": [
    "y_val"
   ]
  },
  {
   "cell_type": "code",
   "execution_count": null,
   "metadata": {},
   "outputs": [],
   "source": [
    "y_pred = bdt_SAME_R.predict(X_test)"
   ]
  },
  {
   "cell_type": "code",
   "execution_count": null,
   "metadata": {},
   "outputs": [],
   "source": [
    "y_pred = label_binarize(y_pred, classes=[0,1])\n",
    "y_pred = enc.fit_transform(y_pred).toarray()"
   ]
  },
  {
   "cell_type": "code",
   "execution_count": null,
   "metadata": {},
   "outputs": [],
   "source": [
    "y_pred"
   ]
  },
  {
   "cell_type": "code",
   "execution_count": null,
   "metadata": {},
   "outputs": [],
   "source": [
    "bdt_SAME_R.predict(X_test)"
   ]
  },
  {
   "cell_type": "code",
   "execution_count": null,
   "metadata": {},
   "outputs": [],
   "source": [
    "y_score = bdt_SAME_R.decision_function(X_test)"
   ]
  },
  {
   "cell_type": "code",
   "execution_count": null,
   "metadata": {},
   "outputs": [],
   "source": [
    "# Compute ROC curve and ROC area for each class\n",
    "fpr = dict()\n",
    "tpr = dict()\n",
    "roc_auc = dict()\n",
    "for i in range(bdt_SAME_R.n_classes_):\n",
    "    fpr[i], tpr[i], _ = roc_curve(y_val[:, i], y_pred[:, i])\n",
    "    roc_auc[i] = auc(fpr[i], tpr[i])"
   ]
  },
  {
   "cell_type": "code",
   "execution_count": null,
   "metadata": {},
   "outputs": [],
   "source": [
    "plt.figure()\n",
    "lw = 2\n",
    "plt.plot(fpr[1], tpr[1], color='darkorange',\n",
    "         lw=2, label='ROC curve (area = %0.2f)' % roc_auc[1])\n",
    "plt.plot([0, 1], [0, 1], color='navy', lw=lw, linestyle='--')\n",
    "plt.xlim([0.0, 1.0])\n",
    "plt.ylim([0.0, 1.05])\n",
    "plt.xlabel('False Positive Rate')\n",
    "plt.ylabel('True Positive Rate')\n",
    "plt.title('Receiver operating characteristic example')\n",
    "plt.legend(loc=\"lower right\")\n",
    "plt.savefig('ROC_BDT.pdf')\n",
    "plt.show()"
   ]
  },
  {
   "cell_type": "code",
   "execution_count": null,
   "metadata": {},
   "outputs": [],
   "source": [
    "# Plot the two-class decision scores\n",
    "plot_colors = \"br\"\n",
    "plot_step = 0.02\n",
    "class_names = ['background','signal']\n",
    "twoclass_output = bdt_SAME_R.decision_function(X_test)\n",
    "plot_range = (twoclass_output.min(), twoclass_output.max())\n",
    "plt.subplot(111)\n",
    "for i, n, c in zip(range(2), class_names, plot_colors):\n",
    "    plt.hist(twoclass_output[y_test == i],\n",
    "             bins=10,\n",
    "             range=plot_range,\n",
    "             facecolor=c,\n",
    "             label='Class %s' % n,\n",
    "             alpha=.5,\n",
    "             edgecolor='k')\n",
    "x1, x2, y1, y2 = plt.axis()\n",
    "plt.axis((x1, x2, y1, y2 * 1.2))\n",
    "plt.legend(loc='upper right')\n",
    "plt.ylabel('Samples')\n",
    "plt.xlabel('Score')\n",
    "plt.title('Decision Scores')\n",
    "\n",
    "plt.tight_layout()\n",
    "plt.show()"
   ]
  },
  {
   "cell_type": "code",
   "execution_count": null,
   "metadata": {},
   "outputs": [],
   "source": [
    "analysis.keys()"
   ]
  },
  {
   "cell_type": "code",
   "execution_count": null,
   "metadata": {},
   "outputs": [],
   "source": [
    "col = ['pt_j1', 'm_j1', 'eta_j1', 'phi_j1', 'E_j1', 'pt_j2', 'm_j2', 'eta_j2',\n",
    "       'phi_j2', 'E_j2', 'deltaeta', 'deltaphi', 'mEratio1', 'mEratio2',\n",
    "       'm_jj', 'pt_asym', 'deltaR1_sj12', 'deltaR1_sj13', 'deltaR1_sj14',\n",
    "       'deltaR1_sj23', 'deltaR1_sj24', 'deltaR1_sj34', 'deltaR2_sj12',\n",
    "       'deltaR2_sj13', 'deltaR2_sj14', 'deltaR2_sj23', 'deltaR2_sj24',\n",
    "       'deltaR2_sj34', 'n_subjets1', 'n_subjets2', 'P_BG', 'P_SIG']"
   ]
  },
  {
   "cell_type": "code",
   "execution_count": null,
   "metadata": {},
   "outputs": [],
   "source": [
    "features_import = bdt_SAME_R.feature_importances_"
   ]
  },
  {
   "cell_type": "code",
   "execution_count": null,
   "metadata": {},
   "outputs": [],
   "source": [
    "fig, ax = plt.subplots(figsize=(12,8)) \n",
    "width = 0.8 # the width of the bars \n",
    "ind = np.arange(len(features_import)) # the x locations for the groups\n",
    "ax.barh(ind, features_import, width, color='red',alpha=0.8)\n",
    "ax.set_yticks(ind+width/10)\n",
    "ax.set_yticklabels(col, minor=False, fontsize=14)\n",
    "ax.set_title('Feature importance in Decsion Tree Classifier with AdaBoost', fontsize=18)\n",
    "ax.set_xlabel(\"Relative importance\", fontsize=18)\n",
    "ax.set_ylabel(\"feature\", fontsize=18) \n",
    "ax.legend(bbox_to_anchor=(1.04,1), loc=\"upper left\", prop={'size': 16})\n",
    "#plt.savefig('./significance plots/feature_importance.png', bbox_inches='tight')"
   ]
  },
  {
   "cell_type": "code",
   "execution_count": null,
   "metadata": {},
   "outputs": [],
   "source": [
    "from sklearn.tree import export_graphviz"
   ]
  },
  {
   "cell_type": "code",
   "execution_count": null,
   "metadata": {},
   "outputs": [],
   "source": [
    "export_graphviz(bdt_SAME_R.estimators_[-1],out_file='tree_last_SAMME.dot',\n",
    "                    feature_names=col,\n",
    "                    filled=True,\n",
    "                    rounded=True,\n",
    "                    class_names=['background', 'signal']\n",
    "                   )"
   ]
  },
  {
   "cell_type": "code",
   "execution_count": null,
   "metadata": {},
   "outputs": [],
   "source": []
  }
 ],
 "metadata": {
  "kernelspec": {
   "display_name": "FastAI-v2",
   "language": "python",
   "name": "fastai_v2"
  },
  "language_info": {
   "codemirror_mode": {
    "name": "ipython",
    "version": 3
   },
   "file_extension": ".py",
   "mimetype": "text/x-python",
   "name": "python",
   "nbconvert_exporter": "python",
   "pygments_lexer": "ipython3",
   "version": "3.7.7"
  }
 },
 "nbformat": 4,
 "nbformat_minor": 4
}
